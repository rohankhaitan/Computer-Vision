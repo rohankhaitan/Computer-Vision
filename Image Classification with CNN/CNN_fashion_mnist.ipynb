{
  "nbformat": 4,
  "nbformat_minor": 0,
  "metadata": {
    "kernelspec": {
      "name": "python3",
      "display_name": "Python 3"
    },
    "language_info": {
      "codemirror_mode": {
        "name": "ipython",
        "version": 3
      },
      "file_extension": ".py",
      "mimetype": "text/x-python",
      "name": "python",
      "nbconvert_exporter": "python",
      "pygments_lexer": "ipython3",
      "version": "3.7.3"
    },
    "colab": {
      "name": "CNN_fashion_mnist.ipynb",
      "provenance": [],
      "collapsed_sections": [],
      "toc_visible": true
    },
    "accelerator": "GPU"
  },
  "cells": [
    {
      "cell_type": "markdown",
      "metadata": {
        "id": "e4jWKo6u18Cl",
        "colab_type": "text"
      },
      "source": [
        "### Computer Vision"
      ]
    },
    {
      "cell_type": "markdown",
      "metadata": {
        "id": "AqzkzDqpXH4z",
        "colab_type": "text"
      },
      "source": [
        "### Importing Libraries"
      ]
    },
    {
      "cell_type": "code",
      "metadata": {
        "id": "FN4cvueQqAGg",
        "colab_type": "code",
        "outputId": "9c95b57f-6fe2-42e3-97de-2f24fe556d08",
        "colab": {
          "base_uri": "https://localhost:8080/",
          "height": 88
        }
      },
      "source": [
        "import pandas as pd\n",
        "import numpy as np\n",
        "import seaborn as sn\n",
        "#from matplotlib import pyplot\n",
        "import matplotlib.pyplot as plt\n",
        "import matplotlib.image as mpimg\n",
        "import seaborn as sns\n",
        "%matplotlib inline\n",
        "\n",
        "#from sklearn.model_selection import train_test_split\n",
        "from sklearn.metrics import confusion_matrix\n",
        "import itertools\n",
        "\n",
        "from keras.utils.np_utils import to_categorical # convert to one-hot-encoding\n",
        "from keras.models import Sequential\n",
        "from keras.layers import Dense, Dropout, Flatten, Conv2D, MaxPool2D\n",
        "from keras.layers.normalization import BatchNormalization\n",
        "from keras.optimizers import RMSprop\n",
        "from keras.optimizers import Adam\n",
        "from keras.preprocessing.image import ImageDataGenerator\n",
        "\n",
        "sns.set(style='white', context='notebook', palette='deep')\n"
      ],
      "execution_count": 1,
      "outputs": [
        {
          "output_type": "stream",
          "text": [
            "/usr/local/lib/python3.6/dist-packages/statsmodels/tools/_testing.py:19: FutureWarning: pandas.util.testing is deprecated. Use the functions in the public API at pandas.testing instead.\n",
            "  import pandas.util.testing as tm\n",
            "Using TensorFlow backend.\n"
          ],
          "name": "stderr"
        }
      ]
    },
    {
      "cell_type": "code",
      "metadata": {
        "id": "XxEeQnVNSfmX",
        "colab_type": "code",
        "colab": {
          "base_uri": "https://localhost:8080/",
          "height": 51
        },
        "outputId": "e900012a-3aad-4955-b911-6cb6a79b4ed4"
      },
      "source": [
        "import tensorflow as tf\n",
        "import keras.backend.tensorflow_backend as tfback\n",
        "\n",
        "print(\"tf.__version__ is\", tf.__version__)\n",
        "print(\"tf.keras.__version__ is:\", tf.keras.__version__)\n",
        "\n",
        "def _get_available_gpus():\n",
        "    \"\"\"Get a list of available gpu devices (formatted as strings).\n",
        "\n",
        "    # Returns\n",
        "        A list of available GPU devices.\n",
        "    \"\"\"\n",
        "    #global _LOCAL_DEVICES\n",
        "    if tfback._LOCAL_DEVICES is None:\n",
        "        devices = tf.config.list_logical_devices()\n",
        "        tfback._LOCAL_DEVICES = [x.name for x in devices]\n",
        "    return [x for x in tfback._LOCAL_DEVICES if 'device:gpu' in x.lower()]\n",
        "\n",
        "tfback._get_available_gpus = _get_available_gpus"
      ],
      "execution_count": 2,
      "outputs": [
        {
          "output_type": "stream",
          "text": [
            "tf.__version__ is 2.2.0-rc3\n",
            "tf.keras.__version__ is: 2.3.0-tf\n"
          ],
          "name": "stdout"
        }
      ]
    },
    {
      "cell_type": "markdown",
      "metadata": {
        "id": "_P0VSq6CXSJe",
        "colab_type": "text"
      },
      "source": [
        "### Read the data"
      ]
    },
    {
      "cell_type": "code",
      "metadata": {
        "id": "qht1ieY2qAGt",
        "colab_type": "code",
        "colab": {}
      },
      "source": [
        "from keras.datasets import fashion_mnist\n",
        "\n",
        "(X_train, Y_train), (X_test, Y_test) = fashion_mnist.load_data()"
      ],
      "execution_count": 0,
      "outputs": []
    },
    {
      "cell_type": "markdown",
      "metadata": {
        "id": "jDXtzUqQ2Kun",
        "colab_type": "text"
      },
      "source": [
        "### Unique values of train labels"
      ]
    },
    {
      "cell_type": "code",
      "metadata": {
        "id": "7r0aSenIVM2q",
        "colab_type": "code",
        "outputId": "c91a27ec-cb66-4510-c06a-ef6a5a3892cb",
        "colab": {
          "base_uri": "https://localhost:8080/",
          "height": 34
        }
      },
      "source": [
        "np.unique(Y_train)"
      ],
      "execution_count": 4,
      "outputs": [
        {
          "output_type": "execute_result",
          "data": {
            "text/plain": [
              "array([0, 1, 2, 3, 4, 5, 6, 7, 8, 9], dtype=uint8)"
            ]
          },
          "metadata": {
            "tags": []
          },
          "execution_count": 4
        }
      ]
    },
    {
      "cell_type": "markdown",
      "metadata": {
        "id": "eALNYl9sdj4R",
        "colab_type": "text"
      },
      "source": [
        "### Visualize image from each category"
      ]
    },
    {
      "cell_type": "code",
      "metadata": {
        "id": "fR1YwiKTXxoC",
        "colab_type": "code",
        "outputId": "505ad87d-62c8-4eb2-dc85-4b186bdfa3e0",
        "colab": {
          "base_uri": "https://localhost:8080/",
          "height": 223
        }
      },
      "source": [
        "categories = [\"T-shirt\",\"Trouser\",\"Pullover shirt\",\"Dress\",\"Coat\",\"Sandal\",\"Shirt\",\"Sneaker\",\"Bag\",\"Ankle boot\"]\n",
        "\n",
        "each_cat_cloth = []\n",
        "for label in np.unique(Y_train):\n",
        "  for i in range(len(Y_train)):\n",
        "      if Y_train[i] == label:\n",
        "        each_cat_cloth.append(X_train[i])\n",
        "        break\n",
        "      else:\n",
        "        pass\n",
        "\n",
        "\n",
        "rows = 2\n",
        "cols = 5\n",
        "k = 0\n",
        "fig, axs = plt.subplots(rows, cols)\n",
        "for i in range(rows):\n",
        "  for j in range(cols):\n",
        "    axs[i,j].imshow(each_cat_cloth[k],cmap=\"gray\")\n",
        "    axs[i,j].axis('off')\n",
        "    axs[i,j].set_title(categories[k])\n",
        "    k = k + 1"
      ],
      "execution_count": 5,
      "outputs": [
        {
          "output_type": "display_data",
          "data": {
            "image/png": "[encoded data removed]",
            "text/plain": [
              "<Figure size 432x288 with 10 Axes>"
            ]
          },
          "metadata": {
            "tags": [],
            "needs_background": "light"
          }
        }
      ]
    },
    {
      "cell_type": "code",
      "metadata": {
        "colab_type": "code",
        "id": "FiYDUevCRKWQ",
        "colab": {}
      },
      "source": [
        "#fig.savefig('each_category.png')"
      ],
      "execution_count": 0,
      "outputs": []
    },
    {
      "cell_type": "markdown",
      "metadata": {
        "id": "t6tFcVrOXkeT",
        "colab_type": "text"
      },
      "source": [
        "### Check the counts for each categories"
      ]
    },
    {
      "cell_type": "code",
      "metadata": {
        "id": "Ey86Kn0gL0mC",
        "colab_type": "code",
        "outputId": "109bc2ca-85ea-43a4-e35e-47a4bdad74ea",
        "colab": {
          "base_uri": "https://localhost:8080/",
          "height": 662
        }
      },
      "source": [
        "unique_elements, counts_elements = np.unique(Y_train, return_counts=True)\n",
        "plt.bar(unique_elements, counts_elements, width=0.8, color = 'rgbkymc')\n",
        "plt.xticks(unique_elements, (0,1,2,3,4,5,6,7,8,9))\n"
      ],
      "execution_count": 6,
      "outputs": [
        {
          "output_type": "stream",
          "text": [
            "/usr/local/lib/python3.6/dist-packages/ipykernel_launcher.py:2: MatplotlibDeprecationWarning: Using a string of single character colors as a color sequence is deprecated. Use an explicit list instead.\n",
            "  \n"
          ],
          "name": "stderr"
        },
        {
          "output_type": "execute_result",
          "data": {
            "text/plain": [
              "([<matplotlib.axis.XTick at 0x7f3eeb8cd5c0>,\n",
              "  <matplotlib.axis.XTick at 0x7f3eeb8cdeb8>,\n",
              "  <matplotlib.axis.XTick at 0x7f3eeb8ceba8>,\n",
              "  <matplotlib.axis.XTick at 0x7f3eeb4564e0>,\n",
              "  <matplotlib.axis.XTick at 0x7f3eeb456908>,\n",
              "  <matplotlib.axis.XTick at 0x7f3eeb456da0>,\n",
              "  <matplotlib.axis.XTick at 0x7f3eeb4563c8>,\n",
              "  <matplotlib.axis.XTick at 0x7f3eeb3e5470>,\n",
              "  <matplotlib.axis.XTick at 0x7f3eeb3e5908>,\n",
              "  <matplotlib.axis.XTick at 0x7f3eeb3e5da0>],\n",
              " [Text(0, 0, '0'),\n",
              "  Text(0, 0, '1'),\n",
              "  Text(0, 0, '2'),\n",
              "  Text(0, 0, '3'),\n",
              "  Text(0, 0, '4'),\n",
              "  Text(0, 0, '5'),\n",
              "  Text(0, 0, '6'),\n",
              "  Text(0, 0, '7'),\n",
              "  Text(0, 0, '8'),\n",
              "  Text(0, 0, '9')])"
            ]
          },
          "metadata": {
            "tags": []
          },
          "execution_count": 6
        },
        {
          "output_type": "display_data",
          "data": {
            "image/png": "[encoded data removed]",
            "text/plain": [
              "<Figure size 432x288 with 1 Axes>"
            ]
          },
          "metadata": {
            "tags": [],
            "needs_background": "light"
          }
        }
      ]
    },
    {
      "cell_type": "code",
      "metadata": {
        "id": "D2-SHtQ-eycX",
        "colab_type": "code",
        "outputId": "c6f5146d-dc81-47e0-edd0-70c4e46f69fa",
        "colab": {
          "base_uri": "https://localhost:8080/",
          "height": 51
        }
      },
      "source": [
        "print(\"Label of 5 th training data:\",Y_train[5])\n",
        "print(\"Label of 67 th training data:\",Y_train[62])"
      ],
      "execution_count": 7,
      "outputs": [
        {
          "output_type": "stream",
          "text": [
            "Label of 5 th training data: 2\n",
            "Label of 67 th training data: 5\n"
          ],
          "name": "stdout"
        }
      ]
    },
    {
      "cell_type": "markdown",
      "metadata": {
        "id": "1bx6ISCuYocw",
        "colab_type": "text"
      },
      "source": [
        "### Convert the labels to one hot vectors\n"
      ]
    },
    {
      "cell_type": "code",
      "metadata": {
        "id": "NpygfnrPHfwz",
        "colab_type": "code",
        "colab": {}
      },
      "source": [
        "Y_train = to_categorical(Y_train, num_classes=10)\n",
        "Y_test = to_categorical(Y_test, num_classes=10)"
      ],
      "execution_count": 0,
      "outputs": []
    },
    {
      "cell_type": "code",
      "metadata": {
        "id": "bOsxeuQMolpq",
        "colab_type": "code",
        "outputId": "4fde3870-610f-4a20-fe17-d3afd3828f46",
        "colab": {
          "base_uri": "https://localhost:8080/",
          "height": 51
        }
      },
      "source": [
        "print(\"Label of 5 th training data:\",Y_train[5])\n",
        "print(\"Label of 67 th training data:\",Y_train[62])"
      ],
      "execution_count": 9,
      "outputs": [
        {
          "output_type": "stream",
          "text": [
            "Label of 5 th training data: [0. 0. 1. 0. 0. 0. 0. 0. 0. 0.]\n",
            "Label of 67 th training data: [0. 0. 0. 0. 0. 1. 0. 0. 0. 0.]\n"
          ],
          "name": "stdout"
        }
      ]
    },
    {
      "cell_type": "markdown",
      "metadata": {
        "id": "T9bxtlBJY0gY",
        "colab_type": "text"
      },
      "source": [
        "### Normalize the data"
      ]
    },
    {
      "cell_type": "code",
      "metadata": {
        "id": "N_WWgeRAY4Ne",
        "colab_type": "code",
        "colab": {}
      },
      "source": [
        "X_train = X_train.astype('float32')\n",
        "X_test = X_test.astype('float32')\n",
        "#X_train = (X_train - np.mean(X_train))/np.std(X_train)\n",
        "\n",
        "X_train /= 255\n",
        "X_test /= 255"
      ],
      "execution_count": 0,
      "outputs": []
    },
    {
      "cell_type": "code",
      "metadata": {
        "id": "kzir2Op3SbDP",
        "colab_type": "code",
        "outputId": "7b8a1f90-d89b-4475-c824-70286568ff63",
        "colab": {
          "base_uri": "https://localhost:8080/",
          "height": 34
        }
      },
      "source": [
        "print(\"Shape of a input before reshaping:\",X_train[0].shape)"
      ],
      "execution_count": 11,
      "outputs": [
        {
          "output_type": "stream",
          "text": [
            "Shape of a input before reshaping: (28, 28)\n"
          ],
          "name": "stdout"
        }
      ]
    },
    {
      "cell_type": "markdown",
      "metadata": {
        "id": "jD8PhrIecvBo",
        "colab_type": "text"
      },
      "source": [
        "### Reshape image "
      ]
    },
    {
      "cell_type": "code",
      "metadata": {
        "id": "xkDgeeWOqAH0",
        "colab_type": "code",
        "colab": {}
      },
      "source": [
        "# Reshape image in 3 dimensions(height = 28px, width = 28px , canal = 1)\n",
        "X_train = X_train.reshape(-1,28,28,1)\n",
        "X_test = X_test.reshape(-1,28,28,1)"
      ],
      "execution_count": 0,
      "outputs": []
    },
    {
      "cell_type": "code",
      "metadata": {
        "id": "uSiRbAfIMsnJ",
        "colab_type": "code",
        "outputId": "3ee1dfec-a7af-4ec0-e98d-d2eaa77bf0a4",
        "colab": {
          "base_uri": "https://localhost:8080/",
          "height": 34
        }
      },
      "source": [
        "print(\"Shape of a input after reshaping:\",X_train[0].shape)"
      ],
      "execution_count": 13,
      "outputs": [
        {
          "output_type": "stream",
          "text": [
            "Shape of a input after reshaping: (28, 28, 1)\n"
          ],
          "name": "stdout"
        }
      ]
    },
    {
      "cell_type": "markdown",
      "metadata": {
        "id": "p7teO_h9hurE",
        "colab_type": "text"
      },
      "source": [
        "### Visualize an image with reshaped Data"
      ]
    },
    {
      "cell_type": "code",
      "metadata": {
        "scrolled": true,
        "id": "7aRB2sl8qAIS",
        "colab_type": "code",
        "outputId": "a97650a0-92e5-4d5c-cc3f-6692f4dba2f0",
        "colab": {
          "base_uri": "https://localhost:8080/",
          "height": 181
        }
      },
      "source": [
        "plt.figure(figsize=(2,4))\n",
        "plt.imshow(X_train[502][:,:,0],cmap = \"gray\")"
      ],
      "execution_count": 15,
      "outputs": [
        {
          "output_type": "execute_result",
          "data": {
            "text/plain": [
              "<matplotlib.image.AxesImage at 0x7f3eeb3bf400>"
            ]
          },
          "metadata": {
            "tags": []
          },
          "execution_count": 15
        },
        {
          "output_type": "display_data",
          "data": {
            "image/png": "[encoded data removed]",
            "text/plain": [
              "<Figure size 144x288 with 1 Axes>"
            ]
          },
          "metadata": {
            "tags": [],
            "needs_background": "light"
          }
        }
      ]
    },
    {
      "cell_type": "markdown",
      "metadata": {
        "id": "pqfmLn2iivCJ",
        "colab_type": "text"
      },
      "source": [
        "### Define our Model"
      ]
    },
    {
      "cell_type": "code",
      "metadata": {
        "id": "Z9TlCKopqAIa",
        "colab_type": "code",
        "colab": {}
      },
      "source": [
        "# CNN model \n",
        "\n",
        "def cnn_model():\n",
        "\n",
        "  model = Sequential()\n",
        "\n",
        "  model.add(Conv2D(filters = 64, kernel_size = (5,5),padding = 'Same', strides=(1,1),\n",
        "                  activation ='relu', input_shape = (28,28,1)))\n",
        "\n",
        "  #model.add(BatchNormalization(axis=1))\n",
        "\n",
        "  model.add(MaxPool2D(pool_size=(2,2)))\n",
        "  model.add(Dropout(0.25))\n",
        "\n",
        "\n",
        "  model.add(Conv2D(filters = 32, kernel_size = (3,3),padding = 'Same', strides=(1,1),\n",
        "                  activation ='relu'))\n",
        "  #model.add(BatchNormalization(axis=1))\n",
        "\n",
        "  model.add(MaxPool2D(pool_size=(2,2), strides=(2,2)))\n",
        "  model.add(Dropout(0.25))\n",
        "\n",
        "\n",
        "  model.add(Flatten())\n",
        "  model.add(Dense(256, activation = \"relu\"))\n",
        "  #model.add(BatchNormalization())\n",
        "\n",
        "  model.add(Dropout(0.5))\n",
        "  model.add(Dense(10, activation = \"softmax\"))\n",
        "\n",
        "  # Define the optimizer\n",
        "  #optimizer = RMSprop(lr=0.001, rho=0.9, epsilon=1e-08, decay=0.0)\n",
        "  optimizer = Adam(learning_rate=0.001, beta_1=0.9, beta_2=0.999, amsgrad=False)\n",
        "\n",
        "  # Compile the model\n",
        "  model.compile(optimizer = optimizer , loss = \"categorical_crossentropy\", metrics=[\"accuracy\"])\n",
        "\n",
        "  return model\n"
      ],
      "execution_count": 0,
      "outputs": []
    },
    {
      "cell_type": "code",
      "metadata": {
        "id": "RrF9HJSJvw30",
        "colab_type": "code",
        "colab": {}
      },
      "source": [
        "model = cnn_model()"
      ],
      "execution_count": 0,
      "outputs": []
    },
    {
      "cell_type": "markdown",
      "metadata": {
        "id": "0d1QMcZo7H05",
        "colab_type": "text"
      },
      "source": [
        "### Model Summary"
      ]
    },
    {
      "cell_type": "code",
      "metadata": {
        "id": "yhqtOSD1otAh",
        "colab_type": "code",
        "outputId": "47e4c3e5-e2d1-4772-fa00-b72aee8e6a6a",
        "colab": {
          "base_uri": "https://localhost:8080/",
          "height": 493
        }
      },
      "source": [
        "model.summary()"
      ],
      "execution_count": 18,
      "outputs": [
        {
          "output_type": "stream",
          "text": [
            "Model: \"sequential_1\"\n",
            "_________________________________________________________________\n",
            "Layer (type)                 Output Shape              Param #   \n",
            "=================================================================\n",
            "conv2d_1 (Conv2D)            (None, 28, 28, 64)        1664      \n",
            "_________________________________________________________________\n",
            "max_pooling2d_1 (MaxPooling2 (None, 14, 14, 64)        0         \n",
            "_________________________________________________________________\n",
            "dropout_1 (Dropout)          (None, 14, 14, 64)        0         \n",
            "_________________________________________________________________\n",
            "conv2d_2 (Conv2D)            (None, 14, 14, 32)        18464     \n",
            "_________________________________________________________________\n",
            "max_pooling2d_2 (MaxPooling2 (None, 7, 7, 32)          0         \n",
            "_________________________________________________________________\n",
            "dropout_2 (Dropout)          (None, 7, 7, 32)          0         \n",
            "_________________________________________________________________\n",
            "flatten_1 (Flatten)          (None, 1568)              0         \n",
            "_________________________________________________________________\n",
            "dense_1 (Dense)              (None, 256)               401664    \n",
            "_________________________________________________________________\n",
            "dropout_3 (Dropout)          (None, 256)               0         \n",
            "_________________________________________________________________\n",
            "dense_2 (Dense)              (None, 10)                2570      \n",
            "=================================================================\n",
            "Total params: 424,362\n",
            "Trainable params: 424,362\n",
            "Non-trainable params: 0\n",
            "_________________________________________________________________\n"
          ],
          "name": "stdout"
        }
      ]
    },
    {
      "cell_type": "markdown",
      "metadata": {
        "id": "ix_XLCy6jB7w",
        "colab_type": "text"
      },
      "source": [
        "#### Fit and evaluate model"
      ]
    },
    {
      "cell_type": "code",
      "metadata": {
        "id": "u9tZgv-VqAIh",
        "colab_type": "code",
        "colab": {}
      },
      "source": [
        "def fit_model(model,epochs = 50, batch_size = 512, data_augmentation = False):\n",
        "\n",
        "    if not data_augmentation:\n",
        "      print(\"Fitting model without using Data Augmenatation.\")\n",
        "      history = model.fit(X_train, Y_train,\n",
        "              batch_size=batch_size,\n",
        "              epochs=epochs,\n",
        "              validation_data=(X_test, Y_test),\n",
        "              shuffle=True, verbose = 2)\n",
        "    else:\n",
        "      print(\"Fitting model using Data Augmenatation.\")\n",
        "      datagen = ImageDataGenerator(\n",
        "        featurewise_center=False,  # set input mean to 0 over the dataset\n",
        "        samplewise_center=False,  # set each sample mean to 0\n",
        "        featurewise_std_normalization=False,  # divide inputs by std of the dataset\n",
        "        samplewise_std_normalization=False,  # divide each input by its std\n",
        "        zca_whitening=True,  # apply ZCA whitening\n",
        "        zca_epsilon=1e-06,  # epsilon for ZCA whitening\n",
        "        rotation_range=0,  # randomly rotate images in the range (degrees, 0 to 180)\n",
        "        # randomly shift images horizontally (fraction of total width)\n",
        "        width_shift_range=0.1,\n",
        "        # randomly shift images vertically (fraction of total height)\n",
        "        height_shift_range=0.1,\n",
        "        shear_range=0.,  # set range for random shear\n",
        "        zoom_range=0.,  # set range for random zoom\n",
        "        channel_shift_range=0.,  # set range for random channel shifts\n",
        "        # set mode for filling points outside the input boundaries\n",
        "        fill_mode='nearest',\n",
        "        cval=0.,  # value used for fill_mode = \"constant\"\n",
        "        horizontal_flip=False,  # randomly flip images\n",
        "        vertical_flip=False,  # randomly flip images\n",
        "        # set rescaling factor (applied before any other transformation)\n",
        "        rescale=None)\n",
        "      \n",
        "      datagen.fit(X_train)\n",
        "      history = model.fit_generator(datagen.flow(X_train, Y_train,\n",
        "                                     batch_size=batch_size),\n",
        "                        epochs=epochs,\n",
        "                        validation_data=(X_test, Y_test),\n",
        "                        shuffle = True,verbose = 2)\n",
        "    return history"
      ],
      "execution_count": 0,
      "outputs": []
    },
    {
      "cell_type": "markdown",
      "metadata": {
        "id": "v-QyOaxzjFhD",
        "colab_type": "text"
      },
      "source": [
        "### Fitting model without Data Augmentation"
      ]
    },
    {
      "cell_type": "code",
      "metadata": {
        "id": "pFiBe_XeqAIu",
        "colab_type": "code",
        "outputId": "d8fc2b9d-7fd3-4634-ef38-faeb08018242",
        "colab": {
          "base_uri": "https://localhost:8080/",
          "height": 1000
        }
      },
      "source": [
        "history = fit_model(model,data_augmentation =False)"
      ],
      "execution_count": 20,
      "outputs": [
        {
          "output_type": "stream",
          "text": [
            "Fitting model without using Data Augmenatation.\n",
            "Train on 60000 samples, validate on 10000 samples\n",
            "Epoch 1/50\n",
            " - 5s - loss: 0.7918 - accuracy: 0.7050 - val_loss: 0.4690 - val_accuracy: 0.8288\n",
            "Epoch 2/50\n",
            " - 3s - loss: 0.4700 - accuracy: 0.8289 - val_loss: 0.3906 - val_accuracy: 0.8574\n",
            "Epoch 3/50\n",
            " - 3s - loss: 0.4048 - accuracy: 0.8546 - val_loss: 0.3538 - val_accuracy: 0.8727\n",
            "Epoch 4/50\n",
            " - 3s - loss: 0.3716 - accuracy: 0.8654 - val_loss: 0.3301 - val_accuracy: 0.8798\n",
            "Epoch 5/50\n",
            " - 3s - loss: 0.3480 - accuracy: 0.8743 - val_loss: 0.3098 - val_accuracy: 0.8858\n",
            "Epoch 6/50\n",
            " - 3s - loss: 0.3275 - accuracy: 0.8809 - val_loss: 0.2956 - val_accuracy: 0.8919\n",
            "Epoch 7/50\n",
            " - 3s - loss: 0.3138 - accuracy: 0.8853 - val_loss: 0.2881 - val_accuracy: 0.8956\n",
            "Epoch 8/50\n",
            " - 3s - loss: 0.3024 - accuracy: 0.8894 - val_loss: 0.2782 - val_accuracy: 0.8968\n",
            "Epoch 9/50\n",
            " - 3s - loss: 0.2907 - accuracy: 0.8935 - val_loss: 0.2693 - val_accuracy: 0.8998\n",
            "Epoch 10/50\n",
            " - 3s - loss: 0.2807 - accuracy: 0.8983 - val_loss: 0.2638 - val_accuracy: 0.9033\n",
            "Epoch 11/50\n",
            " - 3s - loss: 0.2739 - accuracy: 0.8989 - val_loss: 0.2625 - val_accuracy: 0.9040\n",
            "Epoch 12/50\n",
            " - 3s - loss: 0.2656 - accuracy: 0.9024 - val_loss: 0.2550 - val_accuracy: 0.9042\n",
            "Epoch 13/50\n",
            " - 3s - loss: 0.2605 - accuracy: 0.9043 - val_loss: 0.2504 - val_accuracy: 0.9080\n",
            "Epoch 14/50\n",
            " - 3s - loss: 0.2508 - accuracy: 0.9086 - val_loss: 0.2414 - val_accuracy: 0.9102\n",
            "Epoch 15/50\n",
            " - 3s - loss: 0.2451 - accuracy: 0.9091 - val_loss: 0.2466 - val_accuracy: 0.9087\n",
            "Epoch 16/50\n",
            " - 3s - loss: 0.2397 - accuracy: 0.9107 - val_loss: 0.2360 - val_accuracy: 0.9126\n",
            "Epoch 17/50\n",
            " - 3s - loss: 0.2369 - accuracy: 0.9130 - val_loss: 0.2335 - val_accuracy: 0.9131\n",
            "Epoch 18/50\n",
            " - 3s - loss: 0.2326 - accuracy: 0.9133 - val_loss: 0.2325 - val_accuracy: 0.9131\n",
            "Epoch 19/50\n",
            " - 3s - loss: 0.2276 - accuracy: 0.9150 - val_loss: 0.2372 - val_accuracy: 0.9130\n",
            "Epoch 20/50\n",
            " - 3s - loss: 0.2208 - accuracy: 0.9180 - val_loss: 0.2257 - val_accuracy: 0.9171\n",
            "Epoch 21/50\n",
            " - 3s - loss: 0.2171 - accuracy: 0.9195 - val_loss: 0.2357 - val_accuracy: 0.9146\n",
            "Epoch 22/50\n",
            " - 3s - loss: 0.2161 - accuracy: 0.9190 - val_loss: 0.2237 - val_accuracy: 0.9200\n",
            "Epoch 23/50\n",
            " - 3s - loss: 0.2107 - accuracy: 0.9222 - val_loss: 0.2297 - val_accuracy: 0.9165\n",
            "Epoch 24/50\n",
            " - 3s - loss: 0.2068 - accuracy: 0.9229 - val_loss: 0.2175 - val_accuracy: 0.9210\n",
            "Epoch 25/50\n",
            " - 3s - loss: 0.2042 - accuracy: 0.9229 - val_loss: 0.2172 - val_accuracy: 0.9220\n",
            "Epoch 26/50\n",
            " - 3s - loss: 0.2009 - accuracy: 0.9247 - val_loss: 0.2187 - val_accuracy: 0.9219\n",
            "Epoch 27/50\n",
            " - 3s - loss: 0.1956 - accuracy: 0.9266 - val_loss: 0.2138 - val_accuracy: 0.9226\n",
            "Epoch 28/50\n",
            " - 3s - loss: 0.1950 - accuracy: 0.9279 - val_loss: 0.2165 - val_accuracy: 0.9228\n",
            "Epoch 29/50\n",
            " - 3s - loss: 0.1925 - accuracy: 0.9277 - val_loss: 0.2114 - val_accuracy: 0.9257\n",
            "Epoch 30/50\n",
            " - 3s - loss: 0.1867 - accuracy: 0.9294 - val_loss: 0.2114 - val_accuracy: 0.9235\n",
            "Epoch 31/50\n",
            " - 3s - loss: 0.1844 - accuracy: 0.9307 - val_loss: 0.2059 - val_accuracy: 0.9254\n",
            "Epoch 32/50\n",
            " - 3s - loss: 0.1805 - accuracy: 0.9324 - val_loss: 0.2104 - val_accuracy: 0.9251\n",
            "Epoch 33/50\n",
            " - 3s - loss: 0.1816 - accuracy: 0.9316 - val_loss: 0.2095 - val_accuracy: 0.9257\n",
            "Epoch 34/50\n",
            " - 3s - loss: 0.1769 - accuracy: 0.9343 - val_loss: 0.2031 - val_accuracy: 0.9260\n",
            "Epoch 35/50\n",
            " - 3s - loss: 0.1748 - accuracy: 0.9344 - val_loss: 0.2048 - val_accuracy: 0.9272\n",
            "Epoch 36/50\n",
            " - 3s - loss: 0.1754 - accuracy: 0.9337 - val_loss: 0.2125 - val_accuracy: 0.9246\n",
            "Epoch 37/50\n",
            " - 3s - loss: 0.1710 - accuracy: 0.9347 - val_loss: 0.2056 - val_accuracy: 0.9246\n",
            "Epoch 38/50\n",
            " - 3s - loss: 0.1709 - accuracy: 0.9360 - val_loss: 0.2044 - val_accuracy: 0.9286\n",
            "Epoch 39/50\n",
            " - 3s - loss: 0.1663 - accuracy: 0.9375 - val_loss: 0.2143 - val_accuracy: 0.9252\n",
            "Epoch 40/50\n",
            " - 3s - loss: 0.1646 - accuracy: 0.9375 - val_loss: 0.2061 - val_accuracy: 0.9283\n",
            "Epoch 41/50\n",
            " - 3s - loss: 0.1637 - accuracy: 0.9383 - val_loss: 0.2046 - val_accuracy: 0.9267\n",
            "Epoch 42/50\n",
            " - 3s - loss: 0.1613 - accuracy: 0.9402 - val_loss: 0.2021 - val_accuracy: 0.9307\n",
            "Epoch 43/50\n",
            " - 3s - loss: 0.1628 - accuracy: 0.9387 - val_loss: 0.2066 - val_accuracy: 0.9294\n",
            "Epoch 44/50\n",
            " - 3s - loss: 0.1623 - accuracy: 0.9381 - val_loss: 0.2088 - val_accuracy: 0.9265\n",
            "Epoch 45/50\n",
            " - 3s - loss: 0.1549 - accuracy: 0.9417 - val_loss: 0.2140 - val_accuracy: 0.9268\n",
            "Epoch 46/50\n",
            " - 3s - loss: 0.1537 - accuracy: 0.9419 - val_loss: 0.2125 - val_accuracy: 0.9277\n",
            "Epoch 47/50\n",
            " - 3s - loss: 0.1526 - accuracy: 0.9412 - val_loss: 0.2073 - val_accuracy: 0.9286\n",
            "Epoch 48/50\n",
            " - 3s - loss: 0.1546 - accuracy: 0.9413 - val_loss: 0.2077 - val_accuracy: 0.9308\n",
            "Epoch 49/50\n",
            " - 3s - loss: 0.1500 - accuracy: 0.9429 - val_loss: 0.2051 - val_accuracy: 0.9309\n",
            "Epoch 50/50\n",
            " - 3s - loss: 0.1473 - accuracy: 0.9430 - val_loss: 0.2041 - val_accuracy: 0.9305\n"
          ],
          "name": "stdout"
        }
      ]
    },
    {
      "cell_type": "markdown",
      "metadata": {
        "id": "LHAL-K62jApU",
        "colab_type": "text"
      },
      "source": [
        "### With Data Augmentation"
      ]
    },
    {
      "cell_type": "code",
      "metadata": {
        "id": "YVaXG6kDf1DR",
        "colab_type": "code",
        "colab": {
          "base_uri": "https://localhost:8080/",
          "height": 1000
        },
        "outputId": "d6e9856b-1d95-4558-ff60-9db89df10e6a"
      },
      "source": [
        "model_2 = cnn_model()\n",
        "history_2 = fit_model(model_2,data_augmentation =True)"
      ],
      "execution_count": 42,
      "outputs": [
        {
          "output_type": "stream",
          "text": [
            "Fitting model using Data Augmenatation.\n",
            "Epoch 1/50\n",
            " - 11s - loss: 0.9360 - accuracy: 0.6499 - val_loss: 0.5455 - val_accuracy: 0.7879\n",
            "Epoch 2/50\n",
            " - 11s - loss: 0.6326 - accuracy: 0.7615 - val_loss: 0.4713 - val_accuracy: 0.8209\n",
            "Epoch 3/50\n",
            " - 11s - loss: 0.5554 - accuracy: 0.7904 - val_loss: 0.4270 - val_accuracy: 0.8417\n",
            "Epoch 4/50\n",
            " - 11s - loss: 0.5180 - accuracy: 0.8076 - val_loss: 0.3941 - val_accuracy: 0.8523\n",
            "Epoch 5/50\n",
            " - 11s - loss: 0.4895 - accuracy: 0.8166 - val_loss: 0.3687 - val_accuracy: 0.8659\n",
            "Epoch 6/50\n",
            " - 11s - loss: 0.4683 - accuracy: 0.8259 - val_loss: 0.3570 - val_accuracy: 0.8672\n",
            "Epoch 7/50\n",
            " - 11s - loss: 0.4488 - accuracy: 0.8324 - val_loss: 0.3455 - val_accuracy: 0.8707\n",
            "Epoch 8/50\n",
            " - 11s - loss: 0.4362 - accuracy: 0.8370 - val_loss: 0.3386 - val_accuracy: 0.8751\n",
            "Epoch 9/50\n",
            " - 11s - loss: 0.4250 - accuracy: 0.8414 - val_loss: 0.3161 - val_accuracy: 0.8820\n",
            "Epoch 10/50\n",
            " - 11s - loss: 0.4134 - accuracy: 0.8476 - val_loss: 0.3133 - val_accuracy: 0.8849\n",
            "Epoch 11/50\n",
            " - 11s - loss: 0.4050 - accuracy: 0.8479 - val_loss: 0.3143 - val_accuracy: 0.8835\n",
            "Epoch 12/50\n",
            " - 11s - loss: 0.3945 - accuracy: 0.8530 - val_loss: 0.3067 - val_accuracy: 0.8876\n",
            "Epoch 13/50\n",
            " - 11s - loss: 0.3833 - accuracy: 0.8569 - val_loss: 0.3005 - val_accuracy: 0.8904\n",
            "Epoch 14/50\n",
            " - 10s - loss: 0.3809 - accuracy: 0.8584 - val_loss: 0.3013 - val_accuracy: 0.8902\n",
            "Epoch 15/50\n",
            " - 11s - loss: 0.3773 - accuracy: 0.8585 - val_loss: 0.2901 - val_accuracy: 0.8929\n",
            "Epoch 16/50\n",
            " - 10s - loss: 0.3709 - accuracy: 0.8622 - val_loss: 0.3021 - val_accuracy: 0.8918\n",
            "Epoch 17/50\n",
            " - 10s - loss: 0.3606 - accuracy: 0.8648 - val_loss: 0.2839 - val_accuracy: 0.8966\n",
            "Epoch 18/50\n",
            " - 10s - loss: 0.3601 - accuracy: 0.8669 - val_loss: 0.2757 - val_accuracy: 0.8995\n",
            "Epoch 19/50\n",
            " - 10s - loss: 0.3515 - accuracy: 0.8688 - val_loss: 0.2695 - val_accuracy: 0.9013\n",
            "Epoch 20/50\n",
            " - 10s - loss: 0.3463 - accuracy: 0.8715 - val_loss: 0.2652 - val_accuracy: 0.9017\n",
            "Epoch 21/50\n",
            " - 10s - loss: 0.3398 - accuracy: 0.8732 - val_loss: 0.2708 - val_accuracy: 0.8983\n",
            "Epoch 22/50\n",
            " - 10s - loss: 0.3391 - accuracy: 0.8742 - val_loss: 0.2742 - val_accuracy: 0.9002\n",
            "Epoch 23/50\n",
            " - 10s - loss: 0.3367 - accuracy: 0.8749 - val_loss: 0.2629 - val_accuracy: 0.9046\n",
            "Epoch 24/50\n",
            " - 11s - loss: 0.3337 - accuracy: 0.8765 - val_loss: 0.2617 - val_accuracy: 0.9033\n",
            "Epoch 25/50\n",
            " - 11s - loss: 0.3316 - accuracy: 0.8781 - val_loss: 0.2648 - val_accuracy: 0.9046\n",
            "Epoch 26/50\n",
            " - 10s - loss: 0.3253 - accuracy: 0.8792 - val_loss: 0.2535 - val_accuracy: 0.9070\n",
            "Epoch 27/50\n",
            " - 10s - loss: 0.3210 - accuracy: 0.8805 - val_loss: 0.2462 - val_accuracy: 0.9099\n",
            "Epoch 28/50\n",
            " - 10s - loss: 0.3189 - accuracy: 0.8818 - val_loss: 0.2533 - val_accuracy: 0.9087\n",
            "Epoch 29/50\n",
            " - 10s - loss: 0.3157 - accuracy: 0.8837 - val_loss: 0.2452 - val_accuracy: 0.9086\n",
            "Epoch 30/50\n",
            " - 10s - loss: 0.3154 - accuracy: 0.8829 - val_loss: 0.2440 - val_accuracy: 0.9106\n",
            "Epoch 31/50\n",
            " - 10s - loss: 0.3113 - accuracy: 0.8844 - val_loss: 0.2476 - val_accuracy: 0.9088\n",
            "Epoch 32/50\n",
            " - 10s - loss: 0.3112 - accuracy: 0.8840 - val_loss: 0.2410 - val_accuracy: 0.9095\n",
            "Epoch 33/50\n",
            " - 10s - loss: 0.3096 - accuracy: 0.8854 - val_loss: 0.2456 - val_accuracy: 0.9092\n",
            "Epoch 34/50\n",
            " - 10s - loss: 0.3091 - accuracy: 0.8848 - val_loss: 0.2523 - val_accuracy: 0.9032\n",
            "Epoch 35/50\n",
            " - 10s - loss: 0.3061 - accuracy: 0.8857 - val_loss: 0.2478 - val_accuracy: 0.9082\n",
            "Epoch 36/50\n",
            " - 10s - loss: 0.3039 - accuracy: 0.8857 - val_loss: 0.2378 - val_accuracy: 0.9142\n",
            "Epoch 37/50\n",
            " - 10s - loss: 0.2962 - accuracy: 0.8893 - val_loss: 0.2360 - val_accuracy: 0.9135\n",
            "Epoch 38/50\n",
            " - 10s - loss: 0.3012 - accuracy: 0.8875 - val_loss: 0.2383 - val_accuracy: 0.9126\n",
            "Epoch 39/50\n",
            " - 10s - loss: 0.2982 - accuracy: 0.8904 - val_loss: 0.2403 - val_accuracy: 0.9127\n",
            "Epoch 40/50\n",
            " - 10s - loss: 0.2974 - accuracy: 0.8879 - val_loss: 0.2374 - val_accuracy: 0.9115\n",
            "Epoch 41/50\n",
            " - 10s - loss: 0.2992 - accuracy: 0.8893 - val_loss: 0.2333 - val_accuracy: 0.9137\n",
            "Epoch 42/50\n",
            " - 10s - loss: 0.2899 - accuracy: 0.8932 - val_loss: 0.2410 - val_accuracy: 0.9094\n",
            "Epoch 43/50\n",
            " - 10s - loss: 0.2866 - accuracy: 0.8936 - val_loss: 0.2358 - val_accuracy: 0.9137\n",
            "Epoch 44/50\n",
            " - 10s - loss: 0.2909 - accuracy: 0.8920 - val_loss: 0.2391 - val_accuracy: 0.9097\n",
            "Epoch 45/50\n",
            " - 10s - loss: 0.2905 - accuracy: 0.8910 - val_loss: 0.2361 - val_accuracy: 0.9106\n",
            "Epoch 46/50\n",
            " - 10s - loss: 0.2924 - accuracy: 0.8911 - val_loss: 0.2314 - val_accuracy: 0.9144\n",
            "Epoch 47/50\n",
            " - 10s - loss: 0.2863 - accuracy: 0.8929 - val_loss: 0.2311 - val_accuracy: 0.9139\n",
            "Epoch 48/50\n",
            " - 10s - loss: 0.2816 - accuracy: 0.8955 - val_loss: 0.2307 - val_accuracy: 0.9136\n",
            "Epoch 49/50\n",
            " - 10s - loss: 0.2882 - accuracy: 0.8921 - val_loss: 0.2379 - val_accuracy: 0.9109\n",
            "Epoch 50/50\n",
            " - 10s - loss: 0.2805 - accuracy: 0.8952 - val_loss: 0.2274 - val_accuracy: 0.9165\n"
          ],
          "name": "stdout"
        }
      ]
    },
    {
      "cell_type": "markdown",
      "metadata": {
        "id": "NPoXoQoejOWb",
        "colab_type": "text"
      },
      "source": [
        "##### In this case Data Augmentation didn't help much."
      ]
    },
    {
      "cell_type": "markdown",
      "metadata": {
        "id": "qM_FdtnI4i1B",
        "colab_type": "text"
      },
      "source": [
        "### Accuracy and loss on test data"
      ]
    },
    {
      "cell_type": "code",
      "metadata": {
        "id": "PTNrskV24hK3",
        "colab_type": "code",
        "colab": {
          "base_uri": "https://localhost:8080/",
          "height": 51
        },
        "outputId": "59990ebc-3a9a-4479-be9c-7ff563a7c00d"
      },
      "source": [
        "scores = model.evaluate(X_test, Y_test, verbose=0)\n",
        "print('Test loss:', scores[0])\n",
        "print('Test accuracy:', scores[1])"
      ],
      "execution_count": 43,
      "outputs": [
        {
          "output_type": "stream",
          "text": [
            "Test loss: 0.20408273931592702\n",
            "Test accuracy: 0.9304999709129333\n"
          ],
          "name": "stdout"
        }
      ]
    },
    {
      "cell_type": "markdown",
      "metadata": {
        "id": "kSNKsHNgLdI3",
        "colab_type": "text"
      },
      "source": [
        "### Results for the test data"
      ]
    },
    {
      "cell_type": "code",
      "metadata": {
        "id": "2r0VNESiLbzp",
        "colab_type": "code",
        "colab": {
          "base_uri": "https://localhost:8080/",
          "height": 34
        },
        "outputId": "6040583a-48eb-4600-94e3-45ef88a34d89"
      },
      "source": [
        "Y_pred = model.predict(X_test)\n",
        "# Convert the output to a label by taking the index of max probability\n",
        "Y_pred_class = np.argmax(Y_pred,axis = 1) \n",
        "print(\"Predicted label for 500 th test data:\",categories[Y_pred_class[499]])"
      ],
      "execution_count": 22,
      "outputs": [
        {
          "output_type": "stream",
          "text": [
            "Predicted label for 500 th test data: T-shirt\n"
          ],
          "name": "stdout"
        }
      ]
    },
    {
      "cell_type": "markdown",
      "metadata": {
        "id": "4tAQ43V7jYuS",
        "colab_type": "text"
      },
      "source": [
        "### Plotting the training & test loss and accuracy"
      ]
    },
    {
      "cell_type": "code",
      "metadata": {
        "id": "ZHPU6xloqAJZ",
        "colab_type": "code",
        "colab": {
          "base_uri": "https://localhost:8080/",
          "height": 268
        },
        "outputId": "092b8d31-39a1-410c-c6b1-a649d51234a2"
      },
      "source": [
        "# Plot the loss and accuracy curves for training and test\n",
        "fig, ax = plt.subplots(2,1)\n",
        "ax[0].plot(history.history['loss'], color='b', label=\"Training loss\")\n",
        "ax[0].plot(history.history['val_loss'], color='r', label=\"Test loss\",axes =ax[0])\n",
        "legend = ax[0].legend(loc='best')\n",
        "\n",
        "ax[1].plot(history.history['accuracy'], color='b', label=\"Training accuracy\")\n",
        "ax[1].plot(history.history['val_accuracy'], color='r',label=\"Test accuracy\")\n",
        "legend = ax[1].legend(loc='best')"
      ],
      "execution_count": 46,
      "outputs": [
        {
          "output_type": "display_data",
          "data": {
            "image/png": "[encoded data removed]",
            "text/plain": [
              "<Figure size 432x288 with 2 Axes>"
            ]
          },
          "metadata": {
            "tags": [],
            "needs_background": "light"
          }
        }
      ]
    },
    {
      "cell_type": "code",
      "metadata": {
        "id": "pDLUcFlvcEnt",
        "colab_type": "code",
        "colab": {}
      },
      "source": [
        "fig.savefig('acc_loss_plot.png')\n"
      ],
      "execution_count": 0,
      "outputs": []
    },
    {
      "cell_type": "markdown",
      "metadata": {
        "id": "ws5TXSrTF48L",
        "colab_type": "text"
      },
      "source": [
        "### Confusion Matrix for the test data"
      ]
    },
    {
      "cell_type": "code",
      "metadata": {
        "id": "QELfz8a9_vnv",
        "colab_type": "code",
        "colab": {
          "base_uri": "https://localhost:8080/",
          "height": 510
        },
        "outputId": "4893a80a-26ac-4496-e7b7-abb1e28c5143"
      },
      "source": [
        "# Predicted values of test dataset\n",
        "Y_pred = model.predict(X_test)\n",
        "# Convert the output to a label by taking the index of max probability\n",
        "Y_pred_class = np.argmax(Y_pred,axis = 1) \n",
        "\n",
        "Y_true = np.argmax(Y_test,axis = 1) \n",
        "\n",
        "## Confusion matrix\n",
        "cm = confusion_matrix(Y_true, Y_pred_class)\n",
        "acc = np.sum(np.diag(cm))/10000\n",
        "df_cm = pd.DataFrame(cm, index = [i for i in categories],\n",
        "                  columns = [i for i in categories])\n",
        "plt.figure(figsize = (10,7))\n",
        "plt.title('Confusion matrix. Accuracy = {:4.2f}%'.format(acc*100))\n",
        "\n",
        "sns_plot = sn.heatmap(df_cm, annot=True,fmt=\"d\")\n",
        "#plt.imshow(cm, interpolation='nearest')\n",
        "\n",
        "plt.show()\n"
      ],
      "execution_count": 36,
      "outputs": [
        {
          "output_type": "display_data",
          "data": {
            "image/png": "[encoded data removed]",
            "text/plain": [
              "<Figure size 720x504 with 2 Axes>"
            ]
          },
          "metadata": {
            "tags": [],
            "needs_background": "light"
          }
        }
      ]
    },
    {
      "cell_type": "code",
      "metadata": {
        "id": "0GODYzescUEY",
        "colab_type": "code",
        "colab": {}
      },
      "source": [
        "fig = sns_plot.get_figure()\n",
        "fig.savefig(\"confusion_mat.png\")"
      ],
      "execution_count": 0,
      "outputs": []
    },
    {
      "cell_type": "code",
      "metadata": {
        "id": "dM4sOojtqAKH",
        "colab_type": "code",
        "colab": {}
      },
      "source": [
        ""
      ],
      "execution_count": 0,
      "outputs": []
    }
  ]
}