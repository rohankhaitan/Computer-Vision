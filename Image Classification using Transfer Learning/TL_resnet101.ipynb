{
  "nbformat": 4,
  "nbformat_minor": 0,
  "metadata": {
    "colab": {
      "name": "Cv_project_part_2_resnet101.ipynb",
      "provenance": [],
      "collapsed_sections": [],
      "toc_visible": true
    },
    "kernelspec": {
      "name": "python3",
      "display_name": "Python 3"
    },
    "accelerator": "GPU"
  },
  "cells": [
    {
      "cell_type": "markdown",
      "metadata": {
        "id": "tqvi0dyfk32c",
        "colab_type": "text"
      },
      "source": [
        "### Mount Google Drive"
      ]
    },
    {
      "cell_type": "code",
      "metadata": {
        "id": "hyvTb-g6OzNJ",
        "colab_type": "code",
        "outputId": "2908507b-9fdd-4854-e49a-65f516833383",
        "colab": {
          "base_uri": "https://localhost:8080/",
          "height": 54
        }
      },
      "source": [
        "from google.colab import drive \n",
        "drive.mount(\"/content/drive\") "
      ],
      "execution_count": 0,
      "outputs": [
        {
          "output_type": "stream",
          "text": [
            "Drive already mounted at /content/drive; to attempt to forcibly remount, call drive.mount(\"/content/drive\", force_remount=True).\n"
          ],
          "name": "stdout"
        }
      ]
    },
    {
      "cell_type": "code",
      "metadata": {
        "id": "1qF8j7QqHiS_",
        "colab_type": "code",
        "colab": {}
      },
      "source": [
        "#!sudo pip install h5py"
      ],
      "execution_count": 0,
      "outputs": []
    },
    {
      "cell_type": "markdown",
      "metadata": {
        "id": "Gf0EtX5tQHw1",
        "colab_type": "text"
      },
      "source": [
        "### Importing Libraries"
      ]
    },
    {
      "cell_type": "code",
      "metadata": {
        "id": "goDO1pzNN9CG",
        "colab_type": "code",
        "colab": {}
      },
      "source": [
        "import glob\n",
        "import cv2\n",
        "import re\n",
        "import numpy as np\n",
        "import random\n",
        "import matplotlib.pyplot as plt\n",
        "#import tqdm as tqdm\n",
        "from tqdm.notebook import tqdm\n",
        "\n",
        "from tensorflow import keras\n",
        "\n",
        "from tensorflow.keras.applications.vgg19 import VGG19\n",
        "from tensorflow.keras.applications.inception_v3 import InceptionV3 \n",
        "from tensorflow.keras.models import load_model\n",
        "from tensorflow.keras import utils\n",
        "#from keras.utils.np_utils import to_categorical \n",
        "from tensorflow.keras.models import Sequential, Model\n",
        "from tensorflow.keras.layers import Dense, Dropout, Flatten, Conv2D, MaxPool2D, GlobalAveragePooling2D\n",
        "from tensorflow.keras.layers import BatchNormalization\n",
        "from tensorflow.keras.optimizers import RMSprop\n",
        "from tensorflow.keras.optimizers import Adam\n",
        "from tensorflow.keras.preprocessing.image import ImageDataGenerator\n",
        "from tensorflow.keras.preprocessing.image import DirectoryIterator\n",
        "from tensorflow.keras.applications.resnet import preprocess_input\n",
        "\n",
        "from tensorflow.keras.callbacks import EarlyStopping, ModelCheckpoint, ReduceLROnPlateau\n",
        "\n",
        "from tensorflow.keras.applications.resnet import ResNet101\n",
        "from tensorflow.keras.applications.resnet_v2 import ResNet101V2\n",
        "from tensorflow.keras.applications.inception_resnet_v2 import InceptionResNetV2\n",
        "\n",
        "from sklearn.model_selection import train_test_split\n"
      ],
      "execution_count": 0,
      "outputs": []
    },
    {
      "cell_type": "markdown",
      "metadata": {
        "id": "Y5oe-iJJk9P5",
        "colab_type": "text"
      },
      "source": [
        "### Set the directory"
      ]
    },
    {
      "cell_type": "code",
      "metadata": {
        "id": "IDeaErdtPuAK",
        "colab_type": "code",
        "colab": {}
      },
      "source": [
        "import os\n",
        "os.chdir(\"/content/drive/My Drive/Other/data\")"
      ],
      "execution_count": 0,
      "outputs": []
    },
    {
      "cell_type": "markdown",
      "metadata": {
        "id": "vDOKXSG6lDv3",
        "colab_type": "text"
      },
      "source": [
        "### Train and Test Data Path"
      ]
    },
    {
      "cell_type": "code",
      "metadata": {
        "id": "7SjO6JL6chYT",
        "colab_type": "code",
        "colab": {}
      },
      "source": [
        "import pathlib\n",
        "train_dir = pathlib.Path(\"train\")\n",
        "test_dir = pathlib.Path(\"test\")"
      ],
      "execution_count": 0,
      "outputs": []
    },
    {
      "cell_type": "markdown",
      "metadata": {
        "id": "f9nqTCampsH5",
        "colab_type": "text"
      },
      "source": [
        "### Target image size and batch size"
      ]
    },
    {
      "cell_type": "code",
      "metadata": {
        "id": "Aiwk0wwarOqf",
        "colab_type": "code",
        "colab": {}
      },
      "source": [
        "IMAGE_SIZE = 224\n",
        "BATCH_SIZE = 32"
      ],
      "execution_count": 0,
      "outputs": []
    },
    {
      "cell_type": "markdown",
      "metadata": {
        "id": "zOQySLhH2EUV",
        "colab_type": "text"
      },
      "source": [
        "### Define Train and Test Data generator"
      ]
    },
    {
      "cell_type": "code",
      "metadata": {
        "id": "j2Y4JK9c2Kyc",
        "colab_type": "code",
        "colab": {}
      },
      "source": [
        "train_data_generator = ImageDataGenerator(rescale=1./255,preprocessing_function = preprocess_input, width_shift_range=0.1,\n",
        "                     height_shift_range=0.1,\n",
        "                     zoom_range=0.1, horizontal_flip=True,\n",
        "                      validation_split=0.30)\n",
        "\n",
        "test_data_generator = ImageDataGenerator(rescale=1./255,preprocessing_function = preprocess_input)"
      ],
      "execution_count": 0,
      "outputs": []
    },
    {
      "cell_type": "markdown",
      "metadata": {
        "id": "y_af5pxO2Y4V",
        "colab_type": "text"
      },
      "source": [
        "### Read the Train data as two parts - Train and Validation"
      ]
    },
    {
      "cell_type": "code",
      "metadata": {
        "id": "trD72kYwqbAl",
        "colab_type": "code",
        "outputId": "f3906f3f-6915-4b26-c70a-c8e1bdb9718f",
        "colab": {
          "base_uri": "https://localhost:8080/",
          "height": 52
        }
      },
      "source": [
        "\n",
        "train_generator = train_data_generator.flow_from_directory(train_dir, target_size=(IMAGE_SIZE, IMAGE_SIZE), shuffle=True, seed=1,\n",
        "                                                     class_mode='categorical', batch_size=BATCH_SIZE, subset=\"training\")\n",
        "\n",
        "validation_generator = train_data_generator.flow_from_directory(train_dir, target_size=(IMAGE_SIZE, IMAGE_SIZE), shuffle=True, seed=1,\n",
        "                                                     class_mode='categorical', batch_size=BATCH_SIZE, subset=\"validation\")"
      ],
      "execution_count": 0,
      "outputs": [
        {
          "output_type": "stream",
          "text": [
            "Found 3780 images belonging to 15 classes.\n",
            "Found 1620 images belonging to 15 classes.\n"
          ],
          "name": "stdout"
        }
      ]
    },
    {
      "cell_type": "markdown",
      "metadata": {
        "id": "CTjSDUE92i_D",
        "colab_type": "text"
      },
      "source": [
        "### Read the Test Data"
      ]
    },
    {
      "cell_type": "code",
      "metadata": {
        "id": "u1IqQfZ8bNVT",
        "colab_type": "code",
        "outputId": "7c679167-2dac-4c50-e734-989cee2a224b",
        "colab": {
          "base_uri": "https://localhost:8080/",
          "height": 34
        }
      },
      "source": [
        "test_generator = test_data_generator.flow_from_directory(test_dir, target_size=(IMAGE_SIZE, IMAGE_SIZE), shuffle=True, seed=50,\n",
        "                                                     class_mode='categorical', batch_size=BATCH_SIZE)\n"
      ],
      "execution_count": 0,
      "outputs": [
        {
          "output_type": "stream",
          "text": [
            "Found 1800 images belonging to 15 classes.\n"
          ],
          "name": "stdout"
        }
      ]
    },
    {
      "cell_type": "markdown",
      "metadata": {
        "id": "aJ3XRpeI2voZ",
        "colab_type": "text"
      },
      "source": [
        "### Check the categoriess"
      ]
    },
    {
      "cell_type": "code",
      "metadata": {
        "id": "O3hb-capcxxx",
        "colab_type": "code",
        "colab": {}
      },
      "source": [
        "CLASS_NAMES = np.array([item.name for item in train_dir.glob('*')]) "
      ],
      "execution_count": 0,
      "outputs": []
    },
    {
      "cell_type": "code",
      "metadata": {
        "id": "vKMFT3pxcx2M",
        "colab_type": "code",
        "outputId": "75ff99f2-249a-4dfa-e3b4-558bb87722f4",
        "colab": {
          "base_uri": "https://localhost:8080/",
          "height": 86
        }
      },
      "source": [
        "CLASS_NAMES"
      ],
      "execution_count": 0,
      "outputs": [
        {
          "output_type": "execute_result",
          "data": {
            "text/plain": [
              "array(['bedroom', 'beach', 'airport_terminal', 'skyscraper',\n",
              "       'forest_path', 'Cathedral_outdoor', 'bridge', 'house',\n",
              "       'market_outdoor', 'playground', 'restaurant', 'coral_reef',\n",
              "       'dining_room', 'highway', 'mountain'], dtype='<U17')"
            ]
          },
          "metadata": {
            "tags": []
          },
          "execution_count": 11
        }
      ]
    },
    {
      "cell_type": "markdown",
      "metadata": {
        "id": "OlltbxEX20z4",
        "colab_type": "text"
      },
      "source": [
        "### No of data points for each part"
      ]
    },
    {
      "cell_type": "code",
      "metadata": {
        "id": "y5g0syqPYNfw",
        "colab_type": "code",
        "outputId": "6c98b903-860a-4803-c3fa-c6a4e3de791f",
        "colab": {
          "base_uri": "https://localhost:8080/",
          "height": 69
        }
      },
      "source": [
        "print(\"No of Training Images:\",train_generator.n)\n",
        "print(\"No of Validation Images:\",validation_generator.n)\n",
        "print(\"No of Test Images:\",test_generator.n)"
      ],
      "execution_count": 0,
      "outputs": [
        {
          "output_type": "stream",
          "text": [
            "No of Training Images: 3780\n",
            "No of Validation Images: 1620\n",
            "No of Test Images: 1800\n"
          ],
          "name": "stdout"
        }
      ]
    },
    {
      "cell_type": "markdown",
      "metadata": {
        "id": "PHK5Y-N_GcRG",
        "colab_type": "text"
      },
      "source": [
        "### Check shape of one train batch"
      ]
    },
    {
      "cell_type": "code",
      "metadata": {
        "id": "tkE_BcyP5a8i",
        "colab_type": "code",
        "outputId": "69107d3b-ae0c-47c0-eecc-7cec1ab0a857",
        "colab": {
          "base_uri": "https://localhost:8080/",
          "height": 34
        }
      },
      "source": [
        "train_generator.__getitem__(0)[0].shape"
      ],
      "execution_count": 0,
      "outputs": [
        {
          "output_type": "execute_result",
          "data": {
            "text/plain": [
              "(32, 224, 224, 3)"
            ]
          },
          "metadata": {
            "tags": []
          },
          "execution_count": 13
        }
      ]
    },
    {
      "cell_type": "code",
      "metadata": {
        "id": "-WYdBdJO_-VH",
        "colab_type": "code",
        "colab": {}
      },
      "source": [
        "## To check no of images per category in train data\n",
        "# for i in range(len(CLASS_NAMES)):\n",
        "#   print(CLASS_NAMES[i])\n",
        "#   print(len(list(train_dir.glob(str(CLASS_NAMES[i]) +'/*'))))"
      ],
      "execution_count": 0,
      "outputs": []
    },
    {
      "cell_type": "markdown",
      "metadata": {
        "id": "lYVeAt7j3H9s",
        "colab_type": "text"
      },
      "source": [
        "### Visualization "
      ]
    },
    {
      "cell_type": "code",
      "metadata": {
        "id": "cydKAMjh3GmD",
        "colab_type": "code",
        "outputId": "28529369-d935-41de-ebf9-d77598a03267",
        "colab": {
          "base_uri": "https://localhost:8080/",
          "height": 242
        }
      },
      "source": [
        "from PIL import Image\n",
        "import random\n",
        "\n",
        "## Randomly select an image from first 200 images of each category and show \n",
        "rows = 3\n",
        "cols = 5\n",
        "k = 0\n",
        "fig, axs = plt.subplots(rows, cols)\n",
        "for i in range(rows):\n",
        "  for j in range(cols):\n",
        "    r = random.randrange(0, 200, 1)\n",
        "    path = list(train_dir.glob(str(CLASS_NAMES[k]) +'/*'))[r]\n",
        "    img = Image.open(path)\n",
        "    img = img.resize((500,500), Image.ANTIALIAS)\n",
        "\n",
        "    axs[i,j].imshow(img)\n",
        "    axs[i,j].axis('off')\n",
        "    #axs[i,j].set_title(str(CLASS_NAMES[k]))\n",
        "    k = k + 1  "
      ],
      "execution_count": 0,
      "outputs": [
        {
          "output_type": "display_data",
          "data": {
            "image/png": "[encoded data removed]",
            "text/plain": [
              "<Figure size 432x288 with 15 Axes>"
            ]
          },
          "metadata": {
            "tags": [],
            "needs_background": "light"
          }
        }
      ]
    },
    {
      "cell_type": "markdown",
      "metadata": {
        "id": "sHJlKP3m5MJM",
        "colab_type": "text"
      },
      "source": [
        "### Define Model"
      ]
    },
    {
      "cell_type": "markdown",
      "metadata": {
        "id": "ibaV1vKHGr17",
        "colab_type": "text"
      },
      "source": [
        "### Pre-trained Model"
      ]
    },
    {
      "cell_type": "code",
      "metadata": {
        "id": "-vsozVFo2ONi",
        "colab_type": "code",
        "colab": {}
      },
      "source": [
        "base_model = ResNet101(include_top=False, input_shape=(IMAGE_SIZE, IMAGE_SIZE, 3), weights=\"imagenet\") \n",
        "# flat1 = Flatten()\n",
        "# dense_1 = Dense128, activation = \"relu\")\n",
        "# model = Model(inputs=base_model.inputs, outputs=output) \n",
        "base_model.trainable = False"
      ],
      "execution_count": 0,
      "outputs": []
    },
    {
      "cell_type": "code",
      "metadata": {
        "id": "RqXQuTzPs1Ga",
        "colab_type": "code",
        "outputId": "277c9af3-103d-476f-dcc9-8e69c2af5615",
        "colab": {
          "base_uri": "https://localhost:8080/",
          "height": 34
        }
      },
      "source": [
        "print(\"No of layers now in the base model:\",len(base_model.layers))"
      ],
      "execution_count": 0,
      "outputs": [
        {
          "output_type": "stream",
          "text": [
            "No of layers now in the base model: 345\n"
          ],
          "name": "stdout"
        }
      ]
    },
    {
      "cell_type": "markdown",
      "metadata": {
        "id": "ey0lBnhCG4fu",
        "colab_type": "text"
      },
      "source": [
        "### Summary of Base Model"
      ]
    },
    {
      "cell_type": "code",
      "metadata": {
        "id": "IJ0kS7QemDgs",
        "colab_type": "code",
        "outputId": "411a0d1a-ba67-449b-b53d-207fefbd7a8a",
        "colab": {
          "base_uri": "https://localhost:8080/",
          "height": 1000
        }
      },
      "source": [
        "base_model.summary()"
      ],
      "execution_count": 0,
      "outputs": [
        {
          "output_type": "stream",
          "text": [
            "Model: \"resnet101\"\n",
            "__________________________________________________________________________________________________\n",
            "Layer (type)                    Output Shape         Param #     Connected to                     \n",
            "==================================================================================================\n",
            "input_1 (InputLayer)            [(None, 224, 224, 3) 0                                            \n",
            "__________________________________________________________________________________________________\n",
            "conv1_pad (ZeroPadding2D)       (None, 230, 230, 3)  0           input_1[0][0]                    \n",
            "__________________________________________________________________________________________________\n",
            "conv1_conv (Conv2D)             (None, 112, 112, 64) 9472        conv1_pad[0][0]                  \n",
            "__________________________________________________________________________________________________\n",
            "conv1_bn (BatchNormalization)   (None, 112, 112, 64) 256         conv1_conv[0][0]                 \n",
            "__________________________________________________________________________________________________\n",
            "conv1_relu (Activation)         (None, 112, 112, 64) 0           conv1_bn[0][0]                   \n",
            "__________________________________________________________________________________________________\n",
            "pool1_pad (ZeroPadding2D)       (None, 114, 114, 64) 0           conv1_relu[0][0]                 \n",
            "__________________________________________________________________________________________________\n",
            "pool1_pool (MaxPooling2D)       (None, 56, 56, 64)   0           pool1_pad[0][0]                  \n",
            "__________________________________________________________________________________________________\n",
            "conv2_block1_1_conv (Conv2D)    (None, 56, 56, 64)   4160        pool1_pool[0][0]                 \n",
            "__________________________________________________________________________________________________\n",
            "conv2_block1_1_bn (BatchNormali (None, 56, 56, 64)   256         conv2_block1_1_conv[0][0]        \n",
            "__________________________________________________________________________________________________\n",
            "conv2_block1_1_relu (Activation (None, 56, 56, 64)   0           conv2_block1_1_bn[0][0]          \n",
            "__________________________________________________________________________________________________\n",
            "conv2_block1_2_conv (Conv2D)    (None, 56, 56, 64)   36928       conv2_block1_1_relu[0][0]        \n",
            "__________________________________________________________________________________________________\n",
            "conv2_block1_2_bn (BatchNormali (None, 56, 56, 64)   256         conv2_block1_2_conv[0][0]        \n",
            "__________________________________________________________________________________________________\n",
            "conv2_block1_2_relu (Activation (None, 56, 56, 64)   0           conv2_block1_2_bn[0][0]          \n",
            "__________________________________________________________________________________________________\n",
            "conv2_block1_0_conv (Conv2D)    (None, 56, 56, 256)  16640       pool1_pool[0][0]                 \n",
            "__________________________________________________________________________________________________\n",
            "conv2_block1_3_conv (Conv2D)    (None, 56, 56, 256)  16640       conv2_block1_2_relu[0][0]        \n",
            "__________________________________________________________________________________________________\n",
            "conv2_block1_0_bn (BatchNormali (None, 56, 56, 256)  1024        conv2_block1_0_conv[0][0]        \n",
            "__________________________________________________________________________________________________\n",
            "conv2_block1_3_bn (BatchNormali (None, 56, 56, 256)  1024        conv2_block1_3_conv[0][0]        \n",
            "__________________________________________________________________________________________________\n",
            "conv2_block1_add (Add)          (None, 56, 56, 256)  0           conv2_block1_0_bn[0][0]          \n",
            "                                                                 conv2_block1_3_bn[0][0]          \n",
            "__________________________________________________________________________________________________\n",
            "conv2_block1_out (Activation)   (None, 56, 56, 256)  0           conv2_block1_add[0][0]           \n",
            "__________________________________________________________________________________________________\n",
            "conv2_block2_1_conv (Conv2D)    (None, 56, 56, 64)   16448       conv2_block1_out[0][0]           \n",
            "__________________________________________________________________________________________________\n",
            "conv2_block2_1_bn (BatchNormali (None, 56, 56, 64)   256         conv2_block2_1_conv[0][0]        \n",
            "__________________________________________________________________________________________________\n",
            "conv2_block2_1_relu (Activation (None, 56, 56, 64)   0           conv2_block2_1_bn[0][0]          \n",
            "__________________________________________________________________________________________________\n",
            "conv2_block2_2_conv (Conv2D)    (None, 56, 56, 64)   36928       conv2_block2_1_relu[0][0]        \n",
            "__________________________________________________________________________________________________\n",
            "conv2_block2_2_bn (BatchNormali (None, 56, 56, 64)   256         conv2_block2_2_conv[0][0]        \n",
            "__________________________________________________________________________________________________\n",
            "conv2_block2_2_relu (Activation (None, 56, 56, 64)   0           conv2_block2_2_bn[0][0]          \n",
            "__________________________________________________________________________________________________\n",
            "conv2_block2_3_conv (Conv2D)    (None, 56, 56, 256)  16640       conv2_block2_2_relu[0][0]        \n",
            "__________________________________________________________________________________________________\n",
            "conv2_block2_3_bn (BatchNormali (None, 56, 56, 256)  1024        conv2_block2_3_conv[0][0]        \n",
            "__________________________________________________________________________________________________\n",
            "conv2_block2_add (Add)          (None, 56, 56, 256)  0           conv2_block1_out[0][0]           \n",
            "                                                                 conv2_block2_3_bn[0][0]          \n",
            "__________________________________________________________________________________________________\n",
            "conv2_block2_out (Activation)   (None, 56, 56, 256)  0           conv2_block2_add[0][0]           \n",
            "__________________________________________________________________________________________________\n",
            "conv2_block3_1_conv (Conv2D)    (None, 56, 56, 64)   16448       conv2_block2_out[0][0]           \n",
            "__________________________________________________________________________________________________\n",
            "conv2_block3_1_bn (BatchNormali (None, 56, 56, 64)   256         conv2_block3_1_conv[0][0]        \n",
            "__________________________________________________________________________________________________\n",
            "conv2_block3_1_relu (Activation (None, 56, 56, 64)   0           conv2_block3_1_bn[0][0]          \n",
            "__________________________________________________________________________________________________\n",
            "conv2_block3_2_conv (Conv2D)    (None, 56, 56, 64)   36928       conv2_block3_1_relu[0][0]        \n",
            "__________________________________________________________________________________________________\n",
            "conv2_block3_2_bn (BatchNormali (None, 56, 56, 64)   256         conv2_block3_2_conv[0][0]        \n",
            "__________________________________________________________________________________________________\n",
            "conv2_block3_2_relu (Activation (None, 56, 56, 64)   0           conv2_block3_2_bn[0][0]          \n",
            "__________________________________________________________________________________________________\n",
            "conv2_block3_3_conv (Conv2D)    (None, 56, 56, 256)  16640       conv2_block3_2_relu[0][0]        \n",
            "__________________________________________________________________________________________________\n",
            "conv2_block3_3_bn (BatchNormali (None, 56, 56, 256)  1024        conv2_block3_3_conv[0][0]        \n",
            "__________________________________________________________________________________________________\n",
            "conv2_block3_add (Add)          (None, 56, 56, 256)  0           conv2_block2_out[0][0]           \n",
            "                                                                 conv2_block3_3_bn[0][0]          \n",
            "__________________________________________________________________________________________________\n",
            "conv2_block3_out (Activation)   (None, 56, 56, 256)  0           conv2_block3_add[0][0]           \n",
            "__________________________________________________________________________________________________\n",
            "conv3_block1_1_conv (Conv2D)    (None, 28, 28, 128)  32896       conv2_block3_out[0][0]           \n",
            "__________________________________________________________________________________________________\n",
            "conv3_block1_1_bn (BatchNormali (None, 28, 28, 128)  512         conv3_block1_1_conv[0][0]        \n",
            "__________________________________________________________________________________________________\n",
            "conv3_block1_1_relu (Activation (None, 28, 28, 128)  0           conv3_block1_1_bn[0][0]          \n",
            "__________________________________________________________________________________________________\n",
            "conv3_block1_2_conv (Conv2D)    (None, 28, 28, 128)  147584      conv3_block1_1_relu[0][0]        \n",
            "__________________________________________________________________________________________________\n",
            "conv3_block1_2_bn (BatchNormali (None, 28, 28, 128)  512         conv3_block1_2_conv[0][0]        \n",
            "__________________________________________________________________________________________________\n",
            "conv3_block1_2_relu (Activation (None, 28, 28, 128)  0           conv3_block1_2_bn[0][0]          \n",
            "__________________________________________________________________________________________________\n",
            "conv3_block1_0_conv (Conv2D)    (None, 28, 28, 512)  131584      conv2_block3_out[0][0]           \n",
            "__________________________________________________________________________________________________\n",
            "conv3_block1_3_conv (Conv2D)    (None, 28, 28, 512)  66048       conv3_block1_2_relu[0][0]        \n",
            "__________________________________________________________________________________________________\n",
            "conv3_block1_0_bn (BatchNormali (None, 28, 28, 512)  2048        conv3_block1_0_conv[0][0]        \n",
            "__________________________________________________________________________________________________\n",
            "conv3_block1_3_bn (BatchNormali (None, 28, 28, 512)  2048        conv3_block1_3_conv[0][0]        \n",
            "__________________________________________________________________________________________________\n",
            "conv3_block1_add (Add)          (None, 28, 28, 512)  0           conv3_block1_0_bn[0][0]          \n",
            "                                                                 conv3_block1_3_bn[0][0]          \n",
            "__________________________________________________________________________________________________\n",
            "conv3_block1_out (Activation)   (None, 28, 28, 512)  0           conv3_block1_add[0][0]           \n",
            "__________________________________________________________________________________________________\n",
            "conv3_block2_1_conv (Conv2D)    (None, 28, 28, 128)  65664       conv3_block1_out[0][0]           \n",
            "__________________________________________________________________________________________________\n",
            "conv3_block2_1_bn (BatchNormali (None, 28, 28, 128)  512         conv3_block2_1_conv[0][0]        \n",
            "__________________________________________________________________________________________________\n",
            "conv3_block2_1_relu (Activation (None, 28, 28, 128)  0           conv3_block2_1_bn[0][0]          \n",
            "__________________________________________________________________________________________________\n",
            "conv3_block2_2_conv (Conv2D)    (None, 28, 28, 128)  147584      conv3_block2_1_relu[0][0]        \n",
            "__________________________________________________________________________________________________\n",
            "conv3_block2_2_bn (BatchNormali (None, 28, 28, 128)  512         conv3_block2_2_conv[0][0]        \n",
            "__________________________________________________________________________________________________\n",
            "conv3_block2_2_relu (Activation (None, 28, 28, 128)  0           conv3_block2_2_bn[0][0]          \n",
            "__________________________________________________________________________________________________\n",
            "conv3_block2_3_conv (Conv2D)    (None, 28, 28, 512)  66048       conv3_block2_2_relu[0][0]        \n",
            "__________________________________________________________________________________________________\n",
            "conv3_block2_3_bn (BatchNormali (None, 28, 28, 512)  2048        conv3_block2_3_conv[0][0]        \n",
            "__________________________________________________________________________________________________\n",
            "conv3_block2_add (Add)          (None, 28, 28, 512)  0           conv3_block1_out[0][0]           \n",
            "                                                                 conv3_block2_3_bn[0][0]          \n",
            "__________________________________________________________________________________________________\n",
            "conv3_block2_out (Activation)   (None, 28, 28, 512)  0           conv3_block2_add[0][0]           \n",
            "__________________________________________________________________________________________________\n",
            "conv3_block3_1_conv (Conv2D)    (None, 28, 28, 128)  65664       conv3_block2_out[0][0]           \n",
            "__________________________________________________________________________________________________\n",
            "conv3_block3_1_bn (BatchNormali (None, 28, 28, 128)  512         conv3_block3_1_conv[0][0]        \n",
            "__________________________________________________________________________________________________\n",
            "conv3_block3_1_relu (Activation (None, 28, 28, 128)  0           conv3_block3_1_bn[0][0]          \n",
            "__________________________________________________________________________________________________\n",
            "conv3_block3_2_conv (Conv2D)    (None, 28, 28, 128)  147584      conv3_block3_1_relu[0][0]        \n",
            "__________________________________________________________________________________________________\n",
            "conv3_block3_2_bn (BatchNormali (None, 28, 28, 128)  512         conv3_block3_2_conv[0][0]        \n",
            "__________________________________________________________________________________________________\n",
            "conv3_block3_2_relu (Activation (None, 28, 28, 128)  0           conv3_block3_2_bn[0][0]          \n",
            "__________________________________________________________________________________________________\n",
            "conv3_block3_3_conv (Conv2D)    (None, 28, 28, 512)  66048       conv3_block3_2_relu[0][0]        \n",
            "__________________________________________________________________________________________________\n",
            "conv3_block3_3_bn (BatchNormali (None, 28, 28, 512)  2048        conv3_block3_3_conv[0][0]        \n",
            "__________________________________________________________________________________________________\n",
            "conv3_block3_add (Add)          (None, 28, 28, 512)  0           conv3_block2_out[0][0]           \n",
            "                                                                 conv3_block3_3_bn[0][0]          \n",
            "__________________________________________________________________________________________________\n",
            "conv3_block3_out (Activation)   (None, 28, 28, 512)  0           conv3_block3_add[0][0]           \n",
            "__________________________________________________________________________________________________\n",
            "conv3_block4_1_conv (Conv2D)    (None, 28, 28, 128)  65664       conv3_block3_out[0][0]           \n",
            "__________________________________________________________________________________________________\n",
            "conv3_block4_1_bn (BatchNormali (None, 28, 28, 128)  512         conv3_block4_1_conv[0][0]        \n",
            "__________________________________________________________________________________________________\n",
            "conv3_block4_1_relu (Activation (None, 28, 28, 128)  0           conv3_block4_1_bn[0][0]          \n",
            "__________________________________________________________________________________________________\n",
            "conv3_block4_2_conv (Conv2D)    (None, 28, 28, 128)  147584      conv3_block4_1_relu[0][0]        \n",
            "__________________________________________________________________________________________________\n",
            "conv3_block4_2_bn (BatchNormali (None, 28, 28, 128)  512         conv3_block4_2_conv[0][0]        \n",
            "__________________________________________________________________________________________________\n",
            "conv3_block4_2_relu (Activation (None, 28, 28, 128)  0           conv3_block4_2_bn[0][0]          \n",
            "__________________________________________________________________________________________________\n",
            "conv3_block4_3_conv (Conv2D)    (None, 28, 28, 512)  66048       conv3_block4_2_relu[0][0]        \n",
            "__________________________________________________________________________________________________\n",
            "conv3_block4_3_bn (BatchNormali (None, 28, 28, 512)  2048        conv3_block4_3_conv[0][0]        \n",
            "__________________________________________________________________________________________________\n",
            "conv3_block4_add (Add)          (None, 28, 28, 512)  0           conv3_block3_out[0][0]           \n",
            "                                                                 conv3_block4_3_bn[0][0]          \n",
            "__________________________________________________________________________________________________\n",
            "conv3_block4_out (Activation)   (None, 28, 28, 512)  0           conv3_block4_add[0][0]           \n",
            "__________________________________________________________________________________________________\n",
            "conv4_block1_1_conv (Conv2D)    (None, 14, 14, 256)  131328      conv3_block4_out[0][0]           \n",
            "__________________________________________________________________________________________________\n",
            "conv4_block1_1_bn (BatchNormali (None, 14, 14, 256)  1024        conv4_block1_1_conv[0][0]        \n",
            "__________________________________________________________________________________________________\n",
            "conv4_block1_1_relu (Activation (None, 14, 14, 256)  0           conv4_block1_1_bn[0][0]          \n",
            "__________________________________________________________________________________________________\n",
            "conv4_block1_2_conv (Conv2D)    (None, 14, 14, 256)  590080      conv4_block1_1_relu[0][0]        \n",
            "__________________________________________________________________________________________________\n",
            "conv4_block1_2_bn (BatchNormali (None, 14, 14, 256)  1024        conv4_block1_2_conv[0][0]        \n",
            "__________________________________________________________________________________________________\n",
            "conv4_block1_2_relu (Activation (None, 14, 14, 256)  0           conv4_block1_2_bn[0][0]          \n",
            "__________________________________________________________________________________________________\n",
            "conv4_block1_0_conv (Conv2D)    (None, 14, 14, 1024) 525312      conv3_block4_out[0][0]           \n",
            "__________________________________________________________________________________________________\n",
            "conv4_block1_3_conv (Conv2D)    (None, 14, 14, 1024) 263168      conv4_block1_2_relu[0][0]        \n",
            "__________________________________________________________________________________________________\n",
            "conv4_block1_0_bn (BatchNormali (None, 14, 14, 1024) 4096        conv4_block1_0_conv[0][0]        \n",
            "__________________________________________________________________________________________________\n",
            "conv4_block1_3_bn (BatchNormali (None, 14, 14, 1024) 4096        conv4_block1_3_conv[0][0]        \n",
            "__________________________________________________________________________________________________\n",
            "conv4_block1_add (Add)          (None, 14, 14, 1024) 0           conv4_block1_0_bn[0][0]          \n",
            "                                                                 conv4_block1_3_bn[0][0]          \n",
            "__________________________________________________________________________________________________\n",
            "conv4_block1_out (Activation)   (None, 14, 14, 1024) 0           conv4_block1_add[0][0]           \n",
            "__________________________________________________________________________________________________\n",
            "conv4_block2_1_conv (Conv2D)    (None, 14, 14, 256)  262400      conv4_block1_out[0][0]           \n",
            "__________________________________________________________________________________________________\n",
            "conv4_block2_1_bn (BatchNormali (None, 14, 14, 256)  1024        conv4_block2_1_conv[0][0]        \n",
            "__________________________________________________________________________________________________\n",
            "conv4_block2_1_relu (Activation (None, 14, 14, 256)  0           conv4_block2_1_bn[0][0]          \n",
            "__________________________________________________________________________________________________\n",
            "conv4_block2_2_conv (Conv2D)    (None, 14, 14, 256)  590080      conv4_block2_1_relu[0][0]        \n",
            "__________________________________________________________________________________________________\n",
            "conv4_block2_2_bn (BatchNormali (None, 14, 14, 256)  1024        conv4_block2_2_conv[0][0]        \n",
            "__________________________________________________________________________________________________\n",
            "conv4_block2_2_relu (Activation (None, 14, 14, 256)  0           conv4_block2_2_bn[0][0]          \n",
            "__________________________________________________________________________________________________\n",
            "conv4_block2_3_conv (Conv2D)    (None, 14, 14, 1024) 263168      conv4_block2_2_relu[0][0]        \n",
            "__________________________________________________________________________________________________\n",
            "conv4_block2_3_bn (BatchNormali (None, 14, 14, 1024) 4096        conv4_block2_3_conv[0][0]        \n",
            "__________________________________________________________________________________________________\n",
            "conv4_block2_add (Add)          (None, 14, 14, 1024) 0           conv4_block1_out[0][0]           \n",
            "                                                                 conv4_block2_3_bn[0][0]          \n",
            "__________________________________________________________________________________________________\n",
            "conv4_block2_out (Activation)   (None, 14, 14, 1024) 0           conv4_block2_add[0][0]           \n",
            "__________________________________________________________________________________________________\n",
            "conv4_block3_1_conv (Conv2D)    (None, 14, 14, 256)  262400      conv4_block2_out[0][0]           \n",
            "__________________________________________________________________________________________________\n",
            "conv4_block3_1_bn (BatchNormali (None, 14, 14, 256)  1024        conv4_block3_1_conv[0][0]        \n",
            "__________________________________________________________________________________________________\n",
            "conv4_block3_1_relu (Activation (None, 14, 14, 256)  0           conv4_block3_1_bn[0][0]          \n",
            "__________________________________________________________________________________________________\n",
            "conv4_block3_2_conv (Conv2D)    (None, 14, 14, 256)  590080      conv4_block3_1_relu[0][0]        \n",
            "__________________________________________________________________________________________________\n",
            "conv4_block3_2_bn (BatchNormali (None, 14, 14, 256)  1024        conv4_block3_2_conv[0][0]        \n",
            "__________________________________________________________________________________________________\n",
            "conv4_block3_2_relu (Activation (None, 14, 14, 256)  0           conv4_block3_2_bn[0][0]          \n",
            "__________________________________________________________________________________________________\n",
            "conv4_block3_3_conv (Conv2D)    (None, 14, 14, 1024) 263168      conv4_block3_2_relu[0][0]        \n",
            "__________________________________________________________________________________________________\n",
            "conv4_block3_3_bn (BatchNormali (None, 14, 14, 1024) 4096        conv4_block3_3_conv[0][0]        \n",
            "__________________________________________________________________________________________________\n",
            "conv4_block3_add (Add)          (None, 14, 14, 1024) 0           conv4_block2_out[0][0]           \n",
            "                                                                 conv4_block3_3_bn[0][0]          \n",
            "__________________________________________________________________________________________________\n",
            "conv4_block3_out (Activation)   (None, 14, 14, 1024) 0           conv4_block3_add[0][0]           \n",
            "__________________________________________________________________________________________________\n",
            "conv4_block4_1_conv (Conv2D)    (None, 14, 14, 256)  262400      conv4_block3_out[0][0]           \n",
            "__________________________________________________________________________________________________\n",
            "conv4_block4_1_bn (BatchNormali (None, 14, 14, 256)  1024        conv4_block4_1_conv[0][0]        \n",
            "__________________________________________________________________________________________________\n",
            "conv4_block4_1_relu (Activation (None, 14, 14, 256)  0           conv4_block4_1_bn[0][0]          \n",
            "__________________________________________________________________________________________________\n",
            "conv4_block4_2_conv (Conv2D)    (None, 14, 14, 256)  590080      conv4_block4_1_relu[0][0]        \n",
            "__________________________________________________________________________________________________\n",
            "conv4_block4_2_bn (BatchNormali (None, 14, 14, 256)  1024        conv4_block4_2_conv[0][0]        \n",
            "__________________________________________________________________________________________________\n",
            "conv4_block4_2_relu (Activation (None, 14, 14, 256)  0           conv4_block4_2_bn[0][0]          \n",
            "__________________________________________________________________________________________________\n",
            "conv4_block4_3_conv (Conv2D)    (None, 14, 14, 1024) 263168      conv4_block4_2_relu[0][0]        \n",
            "__________________________________________________________________________________________________\n",
            "conv4_block4_3_bn (BatchNormali (None, 14, 14, 1024) 4096        conv4_block4_3_conv[0][0]        \n",
            "__________________________________________________________________________________________________\n",
            "conv4_block4_add (Add)          (None, 14, 14, 1024) 0           conv4_block3_out[0][0]           \n",
            "                                                                 conv4_block4_3_bn[0][0]          \n",
            "__________________________________________________________________________________________________\n",
            "conv4_block4_out (Activation)   (None, 14, 14, 1024) 0           conv4_block4_add[0][0]           \n",
            "__________________________________________________________________________________________________\n",
            "conv4_block5_1_conv (Conv2D)    (None, 14, 14, 256)  262400      conv4_block4_out[0][0]           \n",
            "__________________________________________________________________________________________________\n",
            "conv4_block5_1_bn (BatchNormali (None, 14, 14, 256)  1024        conv4_block5_1_conv[0][0]        \n",
            "__________________________________________________________________________________________________\n",
            "conv4_block5_1_relu (Activation (None, 14, 14, 256)  0           conv4_block5_1_bn[0][0]          \n",
            "__________________________________________________________________________________________________\n",
            "conv4_block5_2_conv (Conv2D)    (None, 14, 14, 256)  590080      conv4_block5_1_relu[0][0]        \n",
            "__________________________________________________________________________________________________\n",
            "conv4_block5_2_bn (BatchNormali (None, 14, 14, 256)  1024        conv4_block5_2_conv[0][0]        \n",
            "__________________________________________________________________________________________________\n",
            "conv4_block5_2_relu (Activation (None, 14, 14, 256)  0           conv4_block5_2_bn[0][0]          \n",
            "__________________________________________________________________________________________________\n",
            "conv4_block5_3_conv (Conv2D)    (None, 14, 14, 1024) 263168      conv4_block5_2_relu[0][0]        \n",
            "__________________________________________________________________________________________________\n",
            "conv4_block5_3_bn (BatchNormali (None, 14, 14, 1024) 4096        conv4_block5_3_conv[0][0]        \n",
            "__________________________________________________________________________________________________\n",
            "conv4_block5_add (Add)          (None, 14, 14, 1024) 0           conv4_block4_out[0][0]           \n",
            "                                                                 conv4_block5_3_bn[0][0]          \n",
            "__________________________________________________________________________________________________\n",
            "conv4_block5_out (Activation)   (None, 14, 14, 1024) 0           conv4_block5_add[0][0]           \n",
            "__________________________________________________________________________________________________\n",
            "conv4_block6_1_conv (Conv2D)    (None, 14, 14, 256)  262400      conv4_block5_out[0][0]           \n",
            "__________________________________________________________________________________________________\n",
            "conv4_block6_1_bn (BatchNormali (None, 14, 14, 256)  1024        conv4_block6_1_conv[0][0]        \n",
            "__________________________________________________________________________________________________\n",
            "conv4_block6_1_relu (Activation (None, 14, 14, 256)  0           conv4_block6_1_bn[0][0]          \n",
            "__________________________________________________________________________________________________\n",
            "conv4_block6_2_conv (Conv2D)    (None, 14, 14, 256)  590080      conv4_block6_1_relu[0][0]        \n",
            "__________________________________________________________________________________________________\n",
            "conv4_block6_2_bn (BatchNormali (None, 14, 14, 256)  1024        conv4_block6_2_conv[0][0]        \n",
            "__________________________________________________________________________________________________\n",
            "conv4_block6_2_relu (Activation (None, 14, 14, 256)  0           conv4_block6_2_bn[0][0]          \n",
            "__________________________________________________________________________________________________\n",
            "conv4_block6_3_conv (Conv2D)    (None, 14, 14, 1024) 263168      conv4_block6_2_relu[0][0]        \n",
            "__________________________________________________________________________________________________\n",
            "conv4_block6_3_bn (BatchNormali (None, 14, 14, 1024) 4096        conv4_block6_3_conv[0][0]        \n",
            "__________________________________________________________________________________________________\n",
            "conv4_block6_add (Add)          (None, 14, 14, 1024) 0           conv4_block5_out[0][0]           \n",
            "                                                                 conv4_block6_3_bn[0][0]          \n",
            "__________________________________________________________________________________________________\n",
            "conv4_block6_out (Activation)   (None, 14, 14, 1024) 0           conv4_block6_add[0][0]           \n",
            "__________________________________________________________________________________________________\n",
            "conv4_block7_1_conv (Conv2D)    (None, 14, 14, 256)  262400      conv4_block6_out[0][0]           \n",
            "__________________________________________________________________________________________________\n",
            "conv4_block7_1_bn (BatchNormali (None, 14, 14, 256)  1024        conv4_block7_1_conv[0][0]        \n",
            "__________________________________________________________________________________________________\n",
            "conv4_block7_1_relu (Activation (None, 14, 14, 256)  0           conv4_block7_1_bn[0][0]          \n",
            "__________________________________________________________________________________________________\n",
            "conv4_block7_2_conv (Conv2D)    (None, 14, 14, 256)  590080      conv4_block7_1_relu[0][0]        \n",
            "__________________________________________________________________________________________________\n",
            "conv4_block7_2_bn (BatchNormali (None, 14, 14, 256)  1024        conv4_block7_2_conv[0][0]        \n",
            "__________________________________________________________________________________________________\n",
            "conv4_block7_2_relu (Activation (None, 14, 14, 256)  0           conv4_block7_2_bn[0][0]          \n",
            "__________________________________________________________________________________________________\n",
            "conv4_block7_3_conv (Conv2D)    (None, 14, 14, 1024) 263168      conv4_block7_2_relu[0][0]        \n",
            "__________________________________________________________________________________________________\n",
            "conv4_block7_3_bn (BatchNormali (None, 14, 14, 1024) 4096        conv4_block7_3_conv[0][0]        \n",
            "__________________________________________________________________________________________________\n",
            "conv4_block7_add (Add)          (None, 14, 14, 1024) 0           conv4_block6_out[0][0]           \n",
            "                                                                 conv4_block7_3_bn[0][0]          \n",
            "__________________________________________________________________________________________________\n",
            "conv4_block7_out (Activation)   (None, 14, 14, 1024) 0           conv4_block7_add[0][0]           \n",
            "__________________________________________________________________________________________________\n",
            "conv4_block8_1_conv (Conv2D)    (None, 14, 14, 256)  262400      conv4_block7_out[0][0]           \n",
            "__________________________________________________________________________________________________\n",
            "conv4_block8_1_bn (BatchNormali (None, 14, 14, 256)  1024        conv4_block8_1_conv[0][0]        \n",
            "__________________________________________________________________________________________________\n",
            "conv4_block8_1_relu (Activation (None, 14, 14, 256)  0           conv4_block8_1_bn[0][0]          \n",
            "__________________________________________________________________________________________________\n",
            "conv4_block8_2_conv (Conv2D)    (None, 14, 14, 256)  590080      conv4_block8_1_relu[0][0]        \n",
            "__________________________________________________________________________________________________\n",
            "conv4_block8_2_bn (BatchNormali (None, 14, 14, 256)  1024        conv4_block8_2_conv[0][0]        \n",
            "__________________________________________________________________________________________________\n",
            "conv4_block8_2_relu (Activation (None, 14, 14, 256)  0           conv4_block8_2_bn[0][0]          \n",
            "__________________________________________________________________________________________________\n",
            "conv4_block8_3_conv (Conv2D)    (None, 14, 14, 1024) 263168      conv4_block8_2_relu[0][0]        \n",
            "__________________________________________________________________________________________________\n",
            "conv4_block8_3_bn (BatchNormali (None, 14, 14, 1024) 4096        conv4_block8_3_conv[0][0]        \n",
            "__________________________________________________________________________________________________\n",
            "conv4_block8_add (Add)          (None, 14, 14, 1024) 0           conv4_block7_out[0][0]           \n",
            "                                                                 conv4_block8_3_bn[0][0]          \n",
            "__________________________________________________________________________________________________\n",
            "conv4_block8_out (Activation)   (None, 14, 14, 1024) 0           conv4_block8_add[0][0]           \n",
            "__________________________________________________________________________________________________\n",
            "conv4_block9_1_conv (Conv2D)    (None, 14, 14, 256)  262400      conv4_block8_out[0][0]           \n",
            "__________________________________________________________________________________________________\n",
            "conv4_block9_1_bn (BatchNormali (None, 14, 14, 256)  1024        conv4_block9_1_conv[0][0]        \n",
            "__________________________________________________________________________________________________\n",
            "conv4_block9_1_relu (Activation (None, 14, 14, 256)  0           conv4_block9_1_bn[0][0]          \n",
            "__________________________________________________________________________________________________\n",
            "conv4_block9_2_conv (Conv2D)    (None, 14, 14, 256)  590080      conv4_block9_1_relu[0][0]        \n",
            "__________________________________________________________________________________________________\n",
            "conv4_block9_2_bn (BatchNormali (None, 14, 14, 256)  1024        conv4_block9_2_conv[0][0]        \n",
            "__________________________________________________________________________________________________\n",
            "conv4_block9_2_relu (Activation (None, 14, 14, 256)  0           conv4_block9_2_bn[0][0]          \n",
            "__________________________________________________________________________________________________\n",
            "conv4_block9_3_conv (Conv2D)    (None, 14, 14, 1024) 263168      conv4_block9_2_relu[0][0]        \n",
            "__________________________________________________________________________________________________\n",
            "conv4_block9_3_bn (BatchNormali (None, 14, 14, 1024) 4096        conv4_block9_3_conv[0][0]        \n",
            "__________________________________________________________________________________________________\n",
            "conv4_block9_add (Add)          (None, 14, 14, 1024) 0           conv4_block8_out[0][0]           \n",
            "                                                                 conv4_block9_3_bn[0][0]          \n",
            "__________________________________________________________________________________________________\n",
            "conv4_block9_out (Activation)   (None, 14, 14, 1024) 0           conv4_block9_add[0][0]           \n",
            "__________________________________________________________________________________________________\n",
            "conv4_block10_1_conv (Conv2D)   (None, 14, 14, 256)  262400      conv4_block9_out[0][0]           \n",
            "__________________________________________________________________________________________________\n",
            "conv4_block10_1_bn (BatchNormal (None, 14, 14, 256)  1024        conv4_block10_1_conv[0][0]       \n",
            "__________________________________________________________________________________________________\n",
            "conv4_block10_1_relu (Activatio (None, 14, 14, 256)  0           conv4_block10_1_bn[0][0]         \n",
            "__________________________________________________________________________________________________\n",
            "conv4_block10_2_conv (Conv2D)   (None, 14, 14, 256)  590080      conv4_block10_1_relu[0][0]       \n",
            "__________________________________________________________________________________________________\n",
            "conv4_block10_2_bn (BatchNormal (None, 14, 14, 256)  1024        conv4_block10_2_conv[0][0]       \n",
            "__________________________________________________________________________________________________\n",
            "conv4_block10_2_relu (Activatio (None, 14, 14, 256)  0           conv4_block10_2_bn[0][0]         \n",
            "__________________________________________________________________________________________________\n",
            "conv4_block10_3_conv (Conv2D)   (None, 14, 14, 1024) 263168      conv4_block10_2_relu[0][0]       \n",
            "__________________________________________________________________________________________________\n",
            "conv4_block10_3_bn (BatchNormal (None, 14, 14, 1024) 4096        conv4_block10_3_conv[0][0]       \n",
            "__________________________________________________________________________________________________\n",
            "conv4_block10_add (Add)         (None, 14, 14, 1024) 0           conv4_block9_out[0][0]           \n",
            "                                                                 conv4_block10_3_bn[0][0]         \n",
            "__________________________________________________________________________________________________\n",
            "conv4_block10_out (Activation)  (None, 14, 14, 1024) 0           conv4_block10_add[0][0]          \n",
            "__________________________________________________________________________________________________\n",
            "conv4_block11_1_conv (Conv2D)   (None, 14, 14, 256)  262400      conv4_block10_out[0][0]          \n",
            "__________________________________________________________________________________________________\n",
            "conv4_block11_1_bn (BatchNormal (None, 14, 14, 256)  1024        conv4_block11_1_conv[0][0]       \n",
            "__________________________________________________________________________________________________\n",
            "conv4_block11_1_relu (Activatio (None, 14, 14, 256)  0           conv4_block11_1_bn[0][0]         \n",
            "__________________________________________________________________________________________________\n",
            "conv4_block11_2_conv (Conv2D)   (None, 14, 14, 256)  590080      conv4_block11_1_relu[0][0]       \n",
            "__________________________________________________________________________________________________\n",
            "conv4_block11_2_bn (BatchNormal (None, 14, 14, 256)  1024        conv4_block11_2_conv[0][0]       \n",
            "__________________________________________________________________________________________________\n",
            "conv4_block11_2_relu (Activatio (None, 14, 14, 256)  0           conv4_block11_2_bn[0][0]         \n",
            "__________________________________________________________________________________________________\n",
            "conv4_block11_3_conv (Conv2D)   (None, 14, 14, 1024) 263168      conv4_block11_2_relu[0][0]       \n",
            "__________________________________________________________________________________________________\n",
            "conv4_block11_3_bn (BatchNormal (None, 14, 14, 1024) 4096        conv4_block11_3_conv[0][0]       \n",
            "__________________________________________________________________________________________________\n",
            "conv4_block11_add (Add)         (None, 14, 14, 1024) 0           conv4_block10_out[0][0]          \n",
            "                                                                 conv4_block11_3_bn[0][0]         \n",
            "__________________________________________________________________________________________________\n",
            "conv4_block11_out (Activation)  (None, 14, 14, 1024) 0           conv4_block11_add[0][0]          \n",
            "__________________________________________________________________________________________________\n",
            "conv4_block12_1_conv (Conv2D)   (None, 14, 14, 256)  262400      conv4_block11_out[0][0]          \n",
            "__________________________________________________________________________________________________\n",
            "conv4_block12_1_bn (BatchNormal (None, 14, 14, 256)  1024        conv4_block12_1_conv[0][0]       \n",
            "__________________________________________________________________________________________________\n",
            "conv4_block12_1_relu (Activatio (None, 14, 14, 256)  0           conv4_block12_1_bn[0][0]         \n",
            "__________________________________________________________________________________________________\n",
            "conv4_block12_2_conv (Conv2D)   (None, 14, 14, 256)  590080      conv4_block12_1_relu[0][0]       \n",
            "__________________________________________________________________________________________________\n",
            "conv4_block12_2_bn (BatchNormal (None, 14, 14, 256)  1024        conv4_block12_2_conv[0][0]       \n",
            "__________________________________________________________________________________________________\n",
            "conv4_block12_2_relu (Activatio (None, 14, 14, 256)  0           conv4_block12_2_bn[0][0]         \n",
            "__________________________________________________________________________________________________\n",
            "conv4_block12_3_conv (Conv2D)   (None, 14, 14, 1024) 263168      conv4_block12_2_relu[0][0]       \n",
            "__________________________________________________________________________________________________\n",
            "conv4_block12_3_bn (BatchNormal (None, 14, 14, 1024) 4096        conv4_block12_3_conv[0][0]       \n",
            "__________________________________________________________________________________________________\n",
            "conv4_block12_add (Add)         (None, 14, 14, 1024) 0           conv4_block11_out[0][0]          \n",
            "                                                                 conv4_block12_3_bn[0][0]         \n",
            "__________________________________________________________________________________________________\n",
            "conv4_block12_out (Activation)  (None, 14, 14, 1024) 0           conv4_block12_add[0][0]          \n",
            "__________________________________________________________________________________________________\n",
            "conv4_block13_1_conv (Conv2D)   (None, 14, 14, 256)  262400      conv4_block12_out[0][0]          \n",
            "__________________________________________________________________________________________________\n",
            "conv4_block13_1_bn (BatchNormal (None, 14, 14, 256)  1024        conv4_block13_1_conv[0][0]       \n",
            "__________________________________________________________________________________________________\n",
            "conv4_block13_1_relu (Activatio (None, 14, 14, 256)  0           conv4_block13_1_bn[0][0]         \n",
            "__________________________________________________________________________________________________\n",
            "conv4_block13_2_conv (Conv2D)   (None, 14, 14, 256)  590080      conv4_block13_1_relu[0][0]       \n",
            "__________________________________________________________________________________________________\n",
            "conv4_block13_2_bn (BatchNormal (None, 14, 14, 256)  1024        conv4_block13_2_conv[0][0]       \n",
            "__________________________________________________________________________________________________\n",
            "conv4_block13_2_relu (Activatio (None, 14, 14, 256)  0           conv4_block13_2_bn[0][0]         \n",
            "__________________________________________________________________________________________________\n",
            "conv4_block13_3_conv (Conv2D)   (None, 14, 14, 1024) 263168      conv4_block13_2_relu[0][0]       \n",
            "__________________________________________________________________________________________________\n",
            "conv4_block13_3_bn (BatchNormal (None, 14, 14, 1024) 4096        conv4_block13_3_conv[0][0]       \n",
            "__________________________________________________________________________________________________\n",
            "conv4_block13_add (Add)         (None, 14, 14, 1024) 0           conv4_block12_out[0][0]          \n",
            "                                                                 conv4_block13_3_bn[0][0]         \n",
            "__________________________________________________________________________________________________\n",
            "conv4_block13_out (Activation)  (None, 14, 14, 1024) 0           conv4_block13_add[0][0]          \n",
            "__________________________________________________________________________________________________\n",
            "conv4_block14_1_conv (Conv2D)   (None, 14, 14, 256)  262400      conv4_block13_out[0][0]          \n",
            "__________________________________________________________________________________________________\n",
            "conv4_block14_1_bn (BatchNormal (None, 14, 14, 256)  1024        conv4_block14_1_conv[0][0]       \n",
            "__________________________________________________________________________________________________\n",
            "conv4_block14_1_relu (Activatio (None, 14, 14, 256)  0           conv4_block14_1_bn[0][0]         \n",
            "__________________________________________________________________________________________________\n",
            "conv4_block14_2_conv (Conv2D)   (None, 14, 14, 256)  590080      conv4_block14_1_relu[0][0]       \n",
            "__________________________________________________________________________________________________\n",
            "conv4_block14_2_bn (BatchNormal (None, 14, 14, 256)  1024        conv4_block14_2_conv[0][0]       \n",
            "__________________________________________________________________________________________________\n",
            "conv4_block14_2_relu (Activatio (None, 14, 14, 256)  0           conv4_block14_2_bn[0][0]         \n",
            "__________________________________________________________________________________________________\n",
            "conv4_block14_3_conv (Conv2D)   (None, 14, 14, 1024) 263168      conv4_block14_2_relu[0][0]       \n",
            "__________________________________________________________________________________________________\n",
            "conv4_block14_3_bn (BatchNormal (None, 14, 14, 1024) 4096        conv4_block14_3_conv[0][0]       \n",
            "__________________________________________________________________________________________________\n",
            "conv4_block14_add (Add)         (None, 14, 14, 1024) 0           conv4_block13_out[0][0]          \n",
            "                                                                 conv4_block14_3_bn[0][0]         \n",
            "__________________________________________________________________________________________________\n",
            "conv4_block14_out (Activation)  (None, 14, 14, 1024) 0           conv4_block14_add[0][0]          \n",
            "__________________________________________________________________________________________________\n",
            "conv4_block15_1_conv (Conv2D)   (None, 14, 14, 256)  262400      conv4_block14_out[0][0]          \n",
            "__________________________________________________________________________________________________\n",
            "conv4_block15_1_bn (BatchNormal (None, 14, 14, 256)  1024        conv4_block15_1_conv[0][0]       \n",
            "__________________________________________________________________________________________________\n",
            "conv4_block15_1_relu (Activatio (None, 14, 14, 256)  0           conv4_block15_1_bn[0][0]         \n",
            "__________________________________________________________________________________________________\n",
            "conv4_block15_2_conv (Conv2D)   (None, 14, 14, 256)  590080      conv4_block15_1_relu[0][0]       \n",
            "__________________________________________________________________________________________________\n",
            "conv4_block15_2_bn (BatchNormal (None, 14, 14, 256)  1024        conv4_block15_2_conv[0][0]       \n",
            "__________________________________________________________________________________________________\n",
            "conv4_block15_2_relu (Activatio (None, 14, 14, 256)  0           conv4_block15_2_bn[0][0]         \n",
            "__________________________________________________________________________________________________\n",
            "conv4_block15_3_conv (Conv2D)   (None, 14, 14, 1024) 263168      conv4_block15_2_relu[0][0]       \n",
            "__________________________________________________________________________________________________\n",
            "conv4_block15_3_bn (BatchNormal (None, 14, 14, 1024) 4096        conv4_block15_3_conv[0][0]       \n",
            "__________________________________________________________________________________________________\n",
            "conv4_block15_add (Add)         (None, 14, 14, 1024) 0           conv4_block14_out[0][0]          \n",
            "                                                                 conv4_block15_3_bn[0][0]         \n",
            "__________________________________________________________________________________________________\n",
            "conv4_block15_out (Activation)  (None, 14, 14, 1024) 0           conv4_block15_add[0][0]          \n",
            "__________________________________________________________________________________________________\n",
            "conv4_block16_1_conv (Conv2D)   (None, 14, 14, 256)  262400      conv4_block15_out[0][0]          \n",
            "__________________________________________________________________________________________________\n",
            "conv4_block16_1_bn (BatchNormal (None, 14, 14, 256)  1024        conv4_block16_1_conv[0][0]       \n",
            "__________________________________________________________________________________________________\n",
            "conv4_block16_1_relu (Activatio (None, 14, 14, 256)  0           conv4_block16_1_bn[0][0]         \n",
            "__________________________________________________________________________________________________\n",
            "conv4_block16_2_conv (Conv2D)   (None, 14, 14, 256)  590080      conv4_block16_1_relu[0][0]       \n",
            "__________________________________________________________________________________________________\n",
            "conv4_block16_2_bn (BatchNormal (None, 14, 14, 256)  1024        conv4_block16_2_conv[0][0]       \n",
            "__________________________________________________________________________________________________\n",
            "conv4_block16_2_relu (Activatio (None, 14, 14, 256)  0           conv4_block16_2_bn[0][0]         \n",
            "__________________________________________________________________________________________________\n",
            "conv4_block16_3_conv (Conv2D)   (None, 14, 14, 1024) 263168      conv4_block16_2_relu[0][0]       \n",
            "__________________________________________________________________________________________________\n",
            "conv4_block16_3_bn (BatchNormal (None, 14, 14, 1024) 4096        conv4_block16_3_conv[0][0]       \n",
            "__________________________________________________________________________________________________\n",
            "conv4_block16_add (Add)         (None, 14, 14, 1024) 0           conv4_block15_out[0][0]          \n",
            "                                                                 conv4_block16_3_bn[0][0]         \n",
            "__________________________________________________________________________________________________\n",
            "conv4_block16_out (Activation)  (None, 14, 14, 1024) 0           conv4_block16_add[0][0]          \n",
            "__________________________________________________________________________________________________\n",
            "conv4_block17_1_conv (Conv2D)   (None, 14, 14, 256)  262400      conv4_block16_out[0][0]          \n",
            "__________________________________________________________________________________________________\n",
            "conv4_block17_1_bn (BatchNormal (None, 14, 14, 256)  1024        conv4_block17_1_conv[0][0]       \n",
            "__________________________________________________________________________________________________\n",
            "conv4_block17_1_relu (Activatio (None, 14, 14, 256)  0           conv4_block17_1_bn[0][0]         \n",
            "__________________________________________________________________________________________________\n",
            "conv4_block17_2_conv (Conv2D)   (None, 14, 14, 256)  590080      conv4_block17_1_relu[0][0]       \n",
            "__________________________________________________________________________________________________\n",
            "conv4_block17_2_bn (BatchNormal (None, 14, 14, 256)  1024        conv4_block17_2_conv[0][0]       \n",
            "__________________________________________________________________________________________________\n",
            "conv4_block17_2_relu (Activatio (None, 14, 14, 256)  0           conv4_block17_2_bn[0][0]         \n",
            "__________________________________________________________________________________________________\n",
            "conv4_block17_3_conv (Conv2D)   (None, 14, 14, 1024) 263168      conv4_block17_2_relu[0][0]       \n",
            "__________________________________________________________________________________________________\n",
            "conv4_block17_3_bn (BatchNormal (None, 14, 14, 1024) 4096        conv4_block17_3_conv[0][0]       \n",
            "__________________________________________________________________________________________________\n",
            "conv4_block17_add (Add)         (None, 14, 14, 1024) 0           conv4_block16_out[0][0]          \n",
            "                                                                 conv4_block17_3_bn[0][0]         \n",
            "__________________________________________________________________________________________________\n",
            "conv4_block17_out (Activation)  (None, 14, 14, 1024) 0           conv4_block17_add[0][0]          \n",
            "__________________________________________________________________________________________________\n",
            "conv4_block18_1_conv (Conv2D)   (None, 14, 14, 256)  262400      conv4_block17_out[0][0]          \n",
            "__________________________________________________________________________________________________\n",
            "conv4_block18_1_bn (BatchNormal (None, 14, 14, 256)  1024        conv4_block18_1_conv[0][0]       \n",
            "__________________________________________________________________________________________________\n",
            "conv4_block18_1_relu (Activatio (None, 14, 14, 256)  0           conv4_block18_1_bn[0][0]         \n",
            "__________________________________________________________________________________________________\n",
            "conv4_block18_2_conv (Conv2D)   (None, 14, 14, 256)  590080      conv4_block18_1_relu[0][0]       \n",
            "__________________________________________________________________________________________________\n",
            "conv4_block18_2_bn (BatchNormal (None, 14, 14, 256)  1024        conv4_block18_2_conv[0][0]       \n",
            "__________________________________________________________________________________________________\n",
            "conv4_block18_2_relu (Activatio (None, 14, 14, 256)  0           conv4_block18_2_bn[0][0]         \n",
            "__________________________________________________________________________________________________\n",
            "conv4_block18_3_conv (Conv2D)   (None, 14, 14, 1024) 263168      conv4_block18_2_relu[0][0]       \n",
            "__________________________________________________________________________________________________\n",
            "conv4_block18_3_bn (BatchNormal (None, 14, 14, 1024) 4096        conv4_block18_3_conv[0][0]       \n",
            "__________________________________________________________________________________________________\n",
            "conv4_block18_add (Add)         (None, 14, 14, 1024) 0           conv4_block17_out[0][0]          \n",
            "                                                                 conv4_block18_3_bn[0][0]         \n",
            "__________________________________________________________________________________________________\n",
            "conv4_block18_out (Activation)  (None, 14, 14, 1024) 0           conv4_block18_add[0][0]          \n",
            "__________________________________________________________________________________________________\n",
            "conv4_block19_1_conv (Conv2D)   (None, 14, 14, 256)  262400      conv4_block18_out[0][0]          \n",
            "__________________________________________________________________________________________________\n",
            "conv4_block19_1_bn (BatchNormal (None, 14, 14, 256)  1024        conv4_block19_1_conv[0][0]       \n",
            "__________________________________________________________________________________________________\n",
            "conv4_block19_1_relu (Activatio (None, 14, 14, 256)  0           conv4_block19_1_bn[0][0]         \n",
            "__________________________________________________________________________________________________\n",
            "conv4_block19_2_conv (Conv2D)   (None, 14, 14, 256)  590080      conv4_block19_1_relu[0][0]       \n",
            "__________________________________________________________________________________________________\n",
            "conv4_block19_2_bn (BatchNormal (None, 14, 14, 256)  1024        conv4_block19_2_conv[0][0]       \n",
            "__________________________________________________________________________________________________\n",
            "conv4_block19_2_relu (Activatio (None, 14, 14, 256)  0           conv4_block19_2_bn[0][0]         \n",
            "__________________________________________________________________________________________________\n",
            "conv4_block19_3_conv (Conv2D)   (None, 14, 14, 1024) 263168      conv4_block19_2_relu[0][0]       \n",
            "__________________________________________________________________________________________________\n",
            "conv4_block19_3_bn (BatchNormal (None, 14, 14, 1024) 4096        conv4_block19_3_conv[0][0]       \n",
            "__________________________________________________________________________________________________\n",
            "conv4_block19_add (Add)         (None, 14, 14, 1024) 0           conv4_block18_out[0][0]          \n",
            "                                                                 conv4_block19_3_bn[0][0]         \n",
            "__________________________________________________________________________________________________\n",
            "conv4_block19_out (Activation)  (None, 14, 14, 1024) 0           conv4_block19_add[0][0]          \n",
            "__________________________________________________________________________________________________\n",
            "conv4_block20_1_conv (Conv2D)   (None, 14, 14, 256)  262400      conv4_block19_out[0][0]          \n",
            "__________________________________________________________________________________________________\n",
            "conv4_block20_1_bn (BatchNormal (None, 14, 14, 256)  1024        conv4_block20_1_conv[0][0]       \n",
            "__________________________________________________________________________________________________\n",
            "conv4_block20_1_relu (Activatio (None, 14, 14, 256)  0           conv4_block20_1_bn[0][0]         \n",
            "__________________________________________________________________________________________________\n",
            "conv4_block20_2_conv (Conv2D)   (None, 14, 14, 256)  590080      conv4_block20_1_relu[0][0]       \n",
            "__________________________________________________________________________________________________\n",
            "conv4_block20_2_bn (BatchNormal (None, 14, 14, 256)  1024        conv4_block20_2_conv[0][0]       \n",
            "__________________________________________________________________________________________________\n",
            "conv4_block20_2_relu (Activatio (None, 14, 14, 256)  0           conv4_block20_2_bn[0][0]         \n",
            "__________________________________________________________________________________________________\n",
            "conv4_block20_3_conv (Conv2D)   (None, 14, 14, 1024) 263168      conv4_block20_2_relu[0][0]       \n",
            "__________________________________________________________________________________________________\n",
            "conv4_block20_3_bn (BatchNormal (None, 14, 14, 1024) 4096        conv4_block20_3_conv[0][0]       \n",
            "__________________________________________________________________________________________________\n",
            "conv4_block20_add (Add)         (None, 14, 14, 1024) 0           conv4_block19_out[0][0]          \n",
            "                                                                 conv4_block20_3_bn[0][0]         \n",
            "__________________________________________________________________________________________________\n",
            "conv4_block20_out (Activation)  (None, 14, 14, 1024) 0           conv4_block20_add[0][0]          \n",
            "__________________________________________________________________________________________________\n",
            "conv4_block21_1_conv (Conv2D)   (None, 14, 14, 256)  262400      conv4_block20_out[0][0]          \n",
            "__________________________________________________________________________________________________\n",
            "conv4_block21_1_bn (BatchNormal (None, 14, 14, 256)  1024        conv4_block21_1_conv[0][0]       \n",
            "__________________________________________________________________________________________________\n",
            "conv4_block21_1_relu (Activatio (None, 14, 14, 256)  0           conv4_block21_1_bn[0][0]         \n",
            "__________________________________________________________________________________________________\n",
            "conv4_block21_2_conv (Conv2D)   (None, 14, 14, 256)  590080      conv4_block21_1_relu[0][0]       \n",
            "__________________________________________________________________________________________________\n",
            "conv4_block21_2_bn (BatchNormal (None, 14, 14, 256)  1024        conv4_block21_2_conv[0][0]       \n",
            "__________________________________________________________________________________________________\n",
            "conv4_block21_2_relu (Activatio (None, 14, 14, 256)  0           conv4_block21_2_bn[0][0]         \n",
            "__________________________________________________________________________________________________\n",
            "conv4_block21_3_conv (Conv2D)   (None, 14, 14, 1024) 263168      conv4_block21_2_relu[0][0]       \n",
            "__________________________________________________________________________________________________\n",
            "conv4_block21_3_bn (BatchNormal (None, 14, 14, 1024) 4096        conv4_block21_3_conv[0][0]       \n",
            "__________________________________________________________________________________________________\n",
            "conv4_block21_add (Add)         (None, 14, 14, 1024) 0           conv4_block20_out[0][0]          \n",
            "                                                                 conv4_block21_3_bn[0][0]         \n",
            "__________________________________________________________________________________________________\n",
            "conv4_block21_out (Activation)  (None, 14, 14, 1024) 0           conv4_block21_add[0][0]          \n",
            "__________________________________________________________________________________________________\n",
            "conv4_block22_1_conv (Conv2D)   (None, 14, 14, 256)  262400      conv4_block21_out[0][0]          \n",
            "__________________________________________________________________________________________________\n",
            "conv4_block22_1_bn (BatchNormal (None, 14, 14, 256)  1024        conv4_block22_1_conv[0][0]       \n",
            "__________________________________________________________________________________________________\n",
            "conv4_block22_1_relu (Activatio (None, 14, 14, 256)  0           conv4_block22_1_bn[0][0]         \n",
            "__________________________________________________________________________________________________\n",
            "conv4_block22_2_conv (Conv2D)   (None, 14, 14, 256)  590080      conv4_block22_1_relu[0][0]       \n",
            "__________________________________________________________________________________________________\n",
            "conv4_block22_2_bn (BatchNormal (None, 14, 14, 256)  1024        conv4_block22_2_conv[0][0]       \n",
            "__________________________________________________________________________________________________\n",
            "conv4_block22_2_relu (Activatio (None, 14, 14, 256)  0           conv4_block22_2_bn[0][0]         \n",
            "__________________________________________________________________________________________________\n",
            "conv4_block22_3_conv (Conv2D)   (None, 14, 14, 1024) 263168      conv4_block22_2_relu[0][0]       \n",
            "__________________________________________________________________________________________________\n",
            "conv4_block22_3_bn (BatchNormal (None, 14, 14, 1024) 4096        conv4_block22_3_conv[0][0]       \n",
            "__________________________________________________________________________________________________\n",
            "conv4_block22_add (Add)         (None, 14, 14, 1024) 0           conv4_block21_out[0][0]          \n",
            "                                                                 conv4_block22_3_bn[0][0]         \n",
            "__________________________________________________________________________________________________\n",
            "conv4_block22_out (Activation)  (None, 14, 14, 1024) 0           conv4_block22_add[0][0]          \n",
            "__________________________________________________________________________________________________\n",
            "conv4_block23_1_conv (Conv2D)   (None, 14, 14, 256)  262400      conv4_block22_out[0][0]          \n",
            "__________________________________________________________________________________________________\n",
            "conv4_block23_1_bn (BatchNormal (None, 14, 14, 256)  1024        conv4_block23_1_conv[0][0]       \n",
            "__________________________________________________________________________________________________\n",
            "conv4_block23_1_relu (Activatio (None, 14, 14, 256)  0           conv4_block23_1_bn[0][0]         \n",
            "__________________________________________________________________________________________________\n",
            "conv4_block23_2_conv (Conv2D)   (None, 14, 14, 256)  590080      conv4_block23_1_relu[0][0]       \n",
            "__________________________________________________________________________________________________\n",
            "conv4_block23_2_bn (BatchNormal (None, 14, 14, 256)  1024        conv4_block23_2_conv[0][0]       \n",
            "__________________________________________________________________________________________________\n",
            "conv4_block23_2_relu (Activatio (None, 14, 14, 256)  0           conv4_block23_2_bn[0][0]         \n",
            "__________________________________________________________________________________________________\n",
            "conv4_block23_3_conv (Conv2D)   (None, 14, 14, 1024) 263168      conv4_block23_2_relu[0][0]       \n",
            "__________________________________________________________________________________________________\n",
            "conv4_block23_3_bn (BatchNormal (None, 14, 14, 1024) 4096        conv4_block23_3_conv[0][0]       \n",
            "__________________________________________________________________________________________________\n",
            "conv4_block23_add (Add)         (None, 14, 14, 1024) 0           conv4_block22_out[0][0]          \n",
            "                                                                 conv4_block23_3_bn[0][0]         \n",
            "__________________________________________________________________________________________________\n",
            "conv4_block23_out (Activation)  (None, 14, 14, 1024) 0           conv4_block23_add[0][0]          \n",
            "__________________________________________________________________________________________________\n",
            "conv5_block1_1_conv (Conv2D)    (None, 7, 7, 512)    524800      conv4_block23_out[0][0]          \n",
            "__________________________________________________________________________________________________\n",
            "conv5_block1_1_bn (BatchNormali (None, 7, 7, 512)    2048        conv5_block1_1_conv[0][0]        \n",
            "__________________________________________________________________________________________________\n",
            "conv5_block1_1_relu (Activation (None, 7, 7, 512)    0           conv5_block1_1_bn[0][0]          \n",
            "__________________________________________________________________________________________________\n",
            "conv5_block1_2_conv (Conv2D)    (None, 7, 7, 512)    2359808     conv5_block1_1_relu[0][0]        \n",
            "__________________________________________________________________________________________________\n",
            "conv5_block1_2_bn (BatchNormali (None, 7, 7, 512)    2048        conv5_block1_2_conv[0][0]        \n",
            "__________________________________________________________________________________________________\n",
            "conv5_block1_2_relu (Activation (None, 7, 7, 512)    0           conv5_block1_2_bn[0][0]          \n",
            "__________________________________________________________________________________________________\n",
            "conv5_block1_0_conv (Conv2D)    (None, 7, 7, 2048)   2099200     conv4_block23_out[0][0]          \n",
            "__________________________________________________________________________________________________\n",
            "conv5_block1_3_conv (Conv2D)    (None, 7, 7, 2048)   1050624     conv5_block1_2_relu[0][0]        \n",
            "__________________________________________________________________________________________________\n",
            "conv5_block1_0_bn (BatchNormali (None, 7, 7, 2048)   8192        conv5_block1_0_conv[0][0]        \n",
            "__________________________________________________________________________________________________\n",
            "conv5_block1_3_bn (BatchNormali (None, 7, 7, 2048)   8192        conv5_block1_3_conv[0][0]        \n",
            "__________________________________________________________________________________________________\n",
            "conv5_block1_add (Add)          (None, 7, 7, 2048)   0           conv5_block1_0_bn[0][0]          \n",
            "                                                                 conv5_block1_3_bn[0][0]          \n",
            "__________________________________________________________________________________________________\n",
            "conv5_block1_out (Activation)   (None, 7, 7, 2048)   0           conv5_block1_add[0][0]           \n",
            "__________________________________________________________________________________________________\n",
            "conv5_block2_1_conv (Conv2D)    (None, 7, 7, 512)    1049088     conv5_block1_out[0][0]           \n",
            "__________________________________________________________________________________________________\n",
            "conv5_block2_1_bn (BatchNormali (None, 7, 7, 512)    2048        conv5_block2_1_conv[0][0]        \n",
            "__________________________________________________________________________________________________\n",
            "conv5_block2_1_relu (Activation (None, 7, 7, 512)    0           conv5_block2_1_bn[0][0]          \n",
            "__________________________________________________________________________________________________\n",
            "conv5_block2_2_conv (Conv2D)    (None, 7, 7, 512)    2359808     conv5_block2_1_relu[0][0]        \n",
            "__________________________________________________________________________________________________\n",
            "conv5_block2_2_bn (BatchNormali (None, 7, 7, 512)    2048        conv5_block2_2_conv[0][0]        \n",
            "__________________________________________________________________________________________________\n",
            "conv5_block2_2_relu (Activation (None, 7, 7, 512)    0           conv5_block2_2_bn[0][0]          \n",
            "__________________________________________________________________________________________________\n",
            "conv5_block2_3_conv (Conv2D)    (None, 7, 7, 2048)   1050624     conv5_block2_2_relu[0][0]        \n",
            "__________________________________________________________________________________________________\n",
            "conv5_block2_3_bn (BatchNormali (None, 7, 7, 2048)   8192        conv5_block2_3_conv[0][0]        \n",
            "__________________________________________________________________________________________________\n",
            "conv5_block2_add (Add)          (None, 7, 7, 2048)   0           conv5_block1_out[0][0]           \n",
            "                                                                 conv5_block2_3_bn[0][0]          \n",
            "__________________________________________________________________________________________________\n",
            "conv5_block2_out (Activation)   (None, 7, 7, 2048)   0           conv5_block2_add[0][0]           \n",
            "__________________________________________________________________________________________________\n",
            "conv5_block3_1_conv (Conv2D)    (None, 7, 7, 512)    1049088     conv5_block2_out[0][0]           \n",
            "__________________________________________________________________________________________________\n",
            "conv5_block3_1_bn (BatchNormali (None, 7, 7, 512)    2048        conv5_block3_1_conv[0][0]        \n",
            "__________________________________________________________________________________________________\n",
            "conv5_block3_1_relu (Activation (None, 7, 7, 512)    0           conv5_block3_1_bn[0][0]          \n",
            "__________________________________________________________________________________________________\n",
            "conv5_block3_2_conv (Conv2D)    (None, 7, 7, 512)    2359808     conv5_block3_1_relu[0][0]        \n",
            "__________________________________________________________________________________________________\n",
            "conv5_block3_2_bn (BatchNormali (None, 7, 7, 512)    2048        conv5_block3_2_conv[0][0]        \n",
            "__________________________________________________________________________________________________\n",
            "conv5_block3_2_relu (Activation (None, 7, 7, 512)    0           conv5_block3_2_bn[0][0]          \n",
            "__________________________________________________________________________________________________\n",
            "conv5_block3_3_conv (Conv2D)    (None, 7, 7, 2048)   1050624     conv5_block3_2_relu[0][0]        \n",
            "__________________________________________________________________________________________________\n",
            "conv5_block3_3_bn (BatchNormali (None, 7, 7, 2048)   8192        conv5_block3_3_conv[0][0]        \n",
            "__________________________________________________________________________________________________\n",
            "conv5_block3_add (Add)          (None, 7, 7, 2048)   0           conv5_block2_out[0][0]           \n",
            "                                                                 conv5_block3_3_bn[0][0]          \n",
            "__________________________________________________________________________________________________\n",
            "conv5_block3_out (Activation)   (None, 7, 7, 2048)   0           conv5_block3_add[0][0]           \n",
            "==================================================================================================\n",
            "Total params: 42,658,176\n",
            "Trainable params: 0\n",
            "Non-trainable params: 42,658,176\n",
            "__________________________________________________________________________________________________\n"
          ],
          "name": "stdout"
        }
      ]
    },
    {
      "cell_type": "markdown",
      "metadata": {
        "id": "R2KJXYIaG-p-",
        "colab_type": "text"
      },
      "source": [
        "### Define the callback functions"
      ]
    },
    {
      "cell_type": "code",
      "metadata": {
        "id": "cwuL6eBlYJA2",
        "colab_type": "code",
        "outputId": "cc82b7ea-bf58-4794-c515-2be0c4a6f4f9",
        "colab": {
          "base_uri": "https://localhost:8080/",
          "height": 54
        }
      },
      "source": [
        "es = EarlyStopping(monitor='val_accuracy', min_delta= 0.001, patience= 20, verbose= 1, mode='auto', baseline=None, restore_best_weights=False)\n",
        "mcp = ModelCheckpoint(\"best_model.h5\", monitor='val_accuracy', verbose= 1, save_best_only= True, save_weights_only=False, mode='auto', period=1)\n",
        "rlr = ReduceLROnPlateau(monitor='val_accuracy', factor=0.2, patience= 3, verbose=1, mode='auto', min_lr=0)\n"
      ],
      "execution_count": 0,
      "outputs": [
        {
          "output_type": "stream",
          "text": [
            "WARNING:tensorflow:`period` argument is deprecated. Please use `save_freq` to specify the frequency in number of batches seen.\n"
          ],
          "name": "stdout"
        }
      ]
    },
    {
      "cell_type": "markdown",
      "metadata": {
        "id": "z7hqikI8HOaW",
        "colab_type": "text"
      },
      "source": [
        "#### Define our model using base model"
      ]
    },
    {
      "cell_type": "code",
      "metadata": {
        "id": "3RyL6SYURMzu",
        "colab_type": "code",
        "colab": {}
      },
      "source": [
        "model = Sequential([base_model])\n",
        "model.add(Flatten())\n",
        "model.add(BatchNormalization())\n",
        "model.add(Dense(256, activation = \"relu\"))\n",
        "#model.add(BatchNormalization())\n",
        "model.add(Dropout(0.25))\n",
        "# model.add(Dense(128, activation = \"relu\"))\n",
        "# model.add(Dropout(0.5))\n",
        "model.add(Dense(15, activation = \"softmax\"))\n",
        "\n",
        "optimizer = Adam(learning_rate=0.0001, beta_1=0.9, beta_2=0.999, amsgrad=False)\n",
        "#optimizer = RMSprop(learning_rate=0.001)\n",
        "\n",
        "\n",
        "model.compile(optimizer = optimizer , loss = \"categorical_crossentropy\", metrics=[\"accuracy\"])"
      ],
      "execution_count": 0,
      "outputs": []
    },
    {
      "cell_type": "markdown",
      "metadata": {
        "id": "DRKB5FQuHbtC",
        "colab_type": "text"
      },
      "source": [
        "### Summary of final model"
      ]
    },
    {
      "cell_type": "code",
      "metadata": {
        "id": "CiUZgP1C5SSY",
        "colab_type": "code",
        "outputId": "06792b81-9e96-4251-c655-d450898d886f",
        "colab": {
          "base_uri": "https://localhost:8080/",
          "height": 364
        }
      },
      "source": [
        "model.summary()"
      ],
      "execution_count": 0,
      "outputs": [
        {
          "output_type": "stream",
          "text": [
            "Model: \"sequential_1\"\n",
            "_________________________________________________________________\n",
            "Layer (type)                 Output Shape              Param #   \n",
            "=================================================================\n",
            "resnet101 (Model)            (None, 7, 7, 2048)        42658176  \n",
            "_________________________________________________________________\n",
            "flatten_1 (Flatten)          (None, 100352)            0         \n",
            "_________________________________________________________________\n",
            "batch_normalization_2 (Batch (None, 100352)            401408    \n",
            "_________________________________________________________________\n",
            "dense_2 (Dense)              (None, 256)               25690368  \n",
            "_________________________________________________________________\n",
            "dropout_1 (Dropout)          (None, 256)               0         \n",
            "_________________________________________________________________\n",
            "dense_3 (Dense)              (None, 15)                3855      \n",
            "=================================================================\n",
            "Total params: 68,753,807\n",
            "Trainable params: 25,894,927\n",
            "Non-trainable params: 42,858,880\n",
            "_________________________________________________________________\n"
          ],
          "name": "stdout"
        }
      ]
    },
    {
      "cell_type": "markdown",
      "metadata": {
        "id": "rnX5fPzC5V3l",
        "colab_type": "text"
      },
      "source": [
        "### Fit model"
      ]
    },
    {
      "cell_type": "code",
      "metadata": {
        "id": "yAGSHFQKCDiI",
        "colab_type": "code",
        "outputId": "a7dcdeb4-7965-4196-9352-4f10875dda51",
        "colab": {
          "base_uri": "https://localhost:8080/",
          "height": 1000
        }
      },
      "source": [
        "## Define epoch, steps\n",
        "EPOCHS = 20\n",
        "steps_per_epoch = 50 #train_generator.__len__() \n",
        "validation_steps = 30 #validation_generator.__len__() \n",
        "\n",
        "\n",
        "history = model.fit(train_generator,\n",
        "\t steps_per_epoch= steps_per_epoch, validation_data=validation_generator, validation_steps = validation_steps,\n",
        "\tepochs=EPOCHS, verbose =1, callbacks=[mcp,rlr])"
      ],
      "execution_count": 0,
      "outputs": [
        {
          "output_type": "stream",
          "text": [
            "Epoch 1/20\n",
            "50/50 [==============================] - ETA: 0s - loss: 2.1481 - accuracy: 0.2975\n",
            "Epoch 00001: val_accuracy improved from -inf to 0.17188, saving model to best_model.h5\n",
            "50/50 [==============================] - 63s 1s/step - loss: 2.1481 - accuracy: 0.2975 - val_loss: 3.1155 - val_accuracy: 0.1719 - lr: 1.0000e-04\n",
            "Epoch 2/20\n",
            "50/50 [==============================] - ETA: 0s - loss: 1.7758 - accuracy: 0.4125\n",
            "Epoch 00002: val_accuracy improved from 0.17188 to 0.22152, saving model to best_model.h5\n",
            "50/50 [==============================] - 62s 1s/step - loss: 1.7758 - accuracy: 0.4125 - val_loss: 2.5195 - val_accuracy: 0.2215 - lr: 1.0000e-04\n",
            "Epoch 3/20\n",
            "50/50 [==============================] - ETA: 0s - loss: 1.4687 - accuracy: 0.5274\n",
            "Epoch 00003: val_accuracy improved from 0.22152 to 0.29896, saving model to best_model.h5\n",
            "50/50 [==============================] - 63s 1s/step - loss: 1.4687 - accuracy: 0.5274 - val_loss: 2.0891 - val_accuracy: 0.2990 - lr: 1.0000e-04\n",
            "Epoch 4/20\n",
            "50/50 [==============================] - ETA: 0s - loss: 1.3442 - accuracy: 0.5562\n",
            "Epoch 00004: val_accuracy improved from 0.29896 to 0.43143, saving model to best_model.h5\n",
            "50/50 [==============================] - 60s 1s/step - loss: 1.3442 - accuracy: 0.5562 - val_loss: 1.7798 - val_accuracy: 0.4314 - lr: 1.0000e-04\n",
            "Epoch 5/20\n",
            "50/50 [==============================] - ETA: 0s - loss: 1.1859 - accuracy: 0.6005\n",
            "Epoch 00005: val_accuracy improved from 0.43143 to 0.45359, saving model to best_model.h5\n",
            "50/50 [==============================] - 60s 1s/step - loss: 1.1859 - accuracy: 0.6005 - val_loss: 1.6639 - val_accuracy: 0.4536 - lr: 1.0000e-04\n",
            "Epoch 6/20\n",
            "50/50 [==============================] - ETA: 0s - loss: 0.9808 - accuracy: 0.6881\n",
            "Epoch 00006: val_accuracy improved from 0.45359 to 0.47604, saving model to best_model.h5\n",
            "50/50 [==============================] - 61s 1s/step - loss: 0.9808 - accuracy: 0.6881 - val_loss: 1.5745 - val_accuracy: 0.4760 - lr: 1.0000e-04\n",
            "Epoch 7/20\n",
            "50/50 [==============================] - ETA: 0s - loss: 1.0163 - accuracy: 0.6694\n",
            "Epoch 00007: val_accuracy improved from 0.47604 to 0.50738, saving model to best_model.h5\n",
            "50/50 [==============================] - 62s 1s/step - loss: 1.0163 - accuracy: 0.6694 - val_loss: 1.4933 - val_accuracy: 0.5074 - lr: 1.0000e-04\n",
            "Epoch 8/20\n",
            "50/50 [==============================] - ETA: 0s - loss: 0.8894 - accuracy: 0.7220\n",
            "Epoch 00008: val_accuracy did not improve from 0.50738\n",
            "50/50 [==============================] - 58s 1s/step - loss: 0.8894 - accuracy: 0.7220 - val_loss: 1.5626 - val_accuracy: 0.4771 - lr: 1.0000e-04\n",
            "Epoch 9/20\n",
            "50/50 [==============================] - ETA: 0s - loss: 0.8061 - accuracy: 0.7500\n",
            "Epoch 00009: val_accuracy improved from 0.50738 to 0.51266, saving model to best_model.h5\n",
            "50/50 [==============================] - 60s 1s/step - loss: 0.8061 - accuracy: 0.7500 - val_loss: 1.4422 - val_accuracy: 0.5127 - lr: 1.0000e-04\n",
            "Epoch 10/20\n",
            "50/50 [==============================] - ETA: 0s - loss: 0.7312 - accuracy: 0.7754\n",
            "Epoch 00010: val_accuracy improved from 0.51266 to 0.51477, saving model to best_model.h5\n",
            "50/50 [==============================] - 61s 1s/step - loss: 0.7312 - accuracy: 0.7754 - val_loss: 1.4982 - val_accuracy: 0.5148 - lr: 1.0000e-04\n",
            "Epoch 11/20\n",
            "50/50 [==============================] - ETA: 0s - loss: 0.6670 - accuracy: 0.7944\n",
            "Epoch 00011: val_accuracy improved from 0.51477 to 0.51979, saving model to best_model.h5\n",
            "50/50 [==============================] - 61s 1s/step - loss: 0.6670 - accuracy: 0.7944 - val_loss: 1.5197 - val_accuracy: 0.5198 - lr: 1.0000e-04\n",
            "Epoch 12/20\n",
            "50/50 [==============================] - ETA: 0s - loss: 0.6670 - accuracy: 0.7977\n",
            "Epoch 00012: val_accuracy did not improve from 0.51979\n",
            "50/50 [==============================] - 56s 1s/step - loss: 0.6670 - accuracy: 0.7977 - val_loss: 1.5206 - val_accuracy: 0.5127 - lr: 1.0000e-04\n",
            "Epoch 13/20\n",
            "50/50 [==============================] - ETA: 0s - loss: 0.5185 - accuracy: 0.8587\n",
            "Epoch 00013: val_accuracy improved from 0.51979 to 0.52917, saving model to best_model.h5\n",
            "50/50 [==============================] - 58s 1s/step - loss: 0.5185 - accuracy: 0.8587 - val_loss: 1.5247 - val_accuracy: 0.5292 - lr: 1.0000e-04\n",
            "Epoch 14/20\n",
            "50/50 [==============================] - ETA: 0s - loss: 0.5889 - accuracy: 0.8288\n",
            "Epoch 00014: val_accuracy did not improve from 0.52917\n",
            "50/50 [==============================] - 58s 1s/step - loss: 0.5889 - accuracy: 0.8288 - val_loss: 1.6121 - val_accuracy: 0.5074 - lr: 1.0000e-04\n",
            "Epoch 15/20\n",
            "50/50 [==============================] - ETA: 0s - loss: 0.4992 - accuracy: 0.8658\n",
            "Epoch 00015: val_accuracy improved from 0.52917 to 0.54430, saving model to best_model.h5\n",
            "50/50 [==============================] - 59s 1s/step - loss: 0.4992 - accuracy: 0.8658 - val_loss: 1.5070 - val_accuracy: 0.5443 - lr: 1.0000e-04\n",
            "Epoch 16/20\n",
            "50/50 [==============================] - ETA: 0s - loss: 0.4505 - accuracy: 0.8750\n",
            "Epoch 00016: val_accuracy did not improve from 0.54430\n",
            "50/50 [==============================] - 57s 1s/step - loss: 0.4505 - accuracy: 0.8750 - val_loss: 1.6019 - val_accuracy: 0.5083 - lr: 1.0000e-04\n",
            "Epoch 17/20\n",
            "50/50 [==============================] - ETA: 0s - loss: 0.5225 - accuracy: 0.8715\n",
            "Epoch 00017: val_accuracy did not improve from 0.54430\n",
            "50/50 [==============================] - 56s 1s/step - loss: 0.5225 - accuracy: 0.8715 - val_loss: 1.6105 - val_accuracy: 0.5200 - lr: 1.0000e-04\n",
            "Epoch 18/20\n",
            "50/50 [==============================] - ETA: 0s - loss: 0.4106 - accuracy: 0.8938\n",
            "Epoch 00018: val_accuracy did not improve from 0.54430\n",
            "\n",
            "Epoch 00018: ReduceLROnPlateau reducing learning rate to 1.9999999494757503e-05.\n",
            "50/50 [==============================] - 54s 1s/step - loss: 0.4106 - accuracy: 0.8938 - val_loss: 1.5591 - val_accuracy: 0.5177 - lr: 1.0000e-04\n",
            "Epoch 19/20\n",
            "50/50 [==============================] - ETA: 0s - loss: 0.3843 - accuracy: 0.8994\n",
            "Epoch 00019: val_accuracy did not improve from 0.54430\n",
            "50/50 [==============================] - 57s 1s/step - loss: 0.3843 - accuracy: 0.8994 - val_loss: 1.5439 - val_accuracy: 0.5285 - lr: 2.0000e-05\n",
            "Epoch 20/20\n",
            "50/50 [==============================] - ETA: 0s - loss: 0.3339 - accuracy: 0.9338\n",
            "Epoch 00020: val_accuracy improved from 0.54430 to 0.55802, saving model to best_model.h5\n",
            "50/50 [==============================] - 59s 1s/step - loss: 0.3339 - accuracy: 0.9338 - val_loss: 1.4710 - val_accuracy: 0.5580 - lr: 2.0000e-05\n"
          ],
          "name": "stdout"
        }
      ]
    },
    {
      "cell_type": "markdown",
      "metadata": {
        "id": "hlOr0P8F_iNm",
        "colab_type": "text"
      },
      "source": [
        "### Validation loss and accuracy"
      ]
    },
    {
      "cell_type": "code",
      "metadata": {
        "id": "A1yer4el0vXq",
        "colab_type": "code",
        "outputId": "169ac568-e141-4d87-bf4d-4345942f6f63",
        "colab": {
          "base_uri": "https://localhost:8080/",
          "height": 69
        }
      },
      "source": [
        "val_loss, val_acc = model.evaluate(validation_generator, steps = validation_steps)\n",
        "print(\"Validation loss:\", val_loss)\n",
        "print(\"Validation accuracy:\", val_acc)"
      ],
      "execution_count": 0,
      "outputs": [
        {
          "output_type": "stream",
          "text": [
            "30/30 [==============================] - 13s 448ms/step - loss: 1.5606 - accuracy: 0.5208\n",
            "Validation loss: 1.5605762004852295\n",
            "Validation accuracy: 0.5208333134651184\n"
          ],
          "name": "stdout"
        }
      ]
    },
    {
      "cell_type": "markdown",
      "metadata": {
        "id": "kmtAP_A-_sSX",
        "colab_type": "text"
      },
      "source": [
        "### Test loss and accuracy"
      ]
    },
    {
      "cell_type": "code",
      "metadata": {
        "id": "Q7nTabXj_stI",
        "colab_type": "code",
        "outputId": "888e89c4-f117-4975-9a2f-1b0d6d03ba29",
        "colab": {
          "base_uri": "https://localhost:8080/",
          "height": 69
        }
      },
      "source": [
        "test_loss, test_acc = model.evaluate(test_generator, steps = 25)\n",
        "print(\"Test loss:\", test_loss) \n",
        "print(\"Test accuracy:\", test_acc)"
      ],
      "execution_count": 0,
      "outputs": [
        {
          "output_type": "stream",
          "text": [
            "25/25 [==============================] - 390s 16s/step - loss: 1.5241 - accuracy: 0.5475\n",
            "Test loss: 1.5241038799285889\n",
            "Test accuracy: 0.5475000143051147\n"
          ],
          "name": "stdout"
        }
      ]
    },
    {
      "cell_type": "markdown",
      "metadata": {
        "id": "4UmNsaDzBLxF",
        "colab_type": "text"
      },
      "source": [
        "### Plot of accuracy and loss with epoch"
      ]
    },
    {
      "cell_type": "code",
      "metadata": {
        "id": "U81PxEDbBKv_",
        "colab_type": "code",
        "outputId": "ab5123b4-bfa1-48ea-d837-fda71624f07c",
        "colab": {
          "base_uri": "https://localhost:8080/",
          "height": 513
        }
      },
      "source": [
        "acc = history.history['accuracy']\n",
        "val_acc = history.history['val_accuracy']\n",
        "\n",
        "loss = history.history['loss']\n",
        "val_loss = history.history['val_loss']\n",
        "\n",
        "plt.figure(figsize=(8, 8))\n",
        "plt.subplot(2, 1, 1)\n",
        "plt.plot(acc, label='Training Accuracy')\n",
        "plt.plot(val_acc, label='Validation Accuracy')\n",
        "plt.legend(loc='lower right')\n",
        "plt.ylabel('Accuracy')\n",
        "plt.ylim([min(plt.ylim()),1])\n",
        "plt.title('Training and Validation Accuracy')\n",
        "\n",
        "plt.subplot(2, 1, 2)\n",
        "plt.plot(loss, label='Training Loss')\n",
        "plt.plot(val_loss, label='Validation Loss')\n",
        "plt.legend(loc='upper right')\n",
        "plt.ylabel('Cross Entropy')\n",
        "plt.ylim([0,5.0])\n",
        "plt.title('Training and Validation Loss')\n",
        "plt.xlabel('epoch')\n",
        "plt.show()"
      ],
      "execution_count": 0,
      "outputs": [
        {
          "output_type": "display_data",
          "data": {
            "image/png": "[encoded data removed]",
            "text/plain": [
              "<Figure size 576x576 with 2 Axes>"
            ]
          },
          "metadata": {
            "tags": [],
            "needs_background": "light"
          }
        }
      ]
    },
    {
      "cell_type": "markdown",
      "metadata": {
        "id": "VDaXXWFc_-Df",
        "colab_type": "text"
      },
      "source": [
        "### Fine tune the model\n",
        "#### Unfreezing the layers of pre-trained model"
      ]
    },
    {
      "cell_type": "code",
      "metadata": {
        "id": "wT0NEIGS2H_5",
        "colab_type": "code",
        "colab": {}
      },
      "source": [
        "base_model.trainable =True"
      ],
      "execution_count": 0,
      "outputs": []
    },
    {
      "cell_type": "code",
      "metadata": {
        "id": "MujwZqFdm5qM",
        "colab_type": "code",
        "outputId": "cab7f5a2-33b0-4f7a-cd32-d4ffb87c3705",
        "colab": {
          "base_uri": "https://localhost:8080/",
          "height": 34
        }
      },
      "source": [
        "# No of layers\n",
        "print(\"Number of layers in the base model: \", len(base_model.layers))\n",
        "\n",
        "# Fine-tune from this layer onwards\n",
        "## Here we learn all the weights, so the 0 below\n",
        "fine_tune_at = 0\n",
        "\n",
        "# Freeze all the layers before the `fine_tune_at` layer\n",
        "for layer in base_model.layers[:fine_tune_at]:\n",
        "  layer.trainable =  False"
      ],
      "execution_count": 0,
      "outputs": [
        {
          "output_type": "stream",
          "text": [
            "Number of layers in the base model:  345\n"
          ],
          "name": "stdout"
        }
      ]
    },
    {
      "cell_type": "markdown",
      "metadata": {
        "id": "M87mVEFxALYb",
        "colab_type": "text"
      },
      "source": [
        "### Compile the model"
      ]
    },
    {
      "cell_type": "code",
      "metadata": {
        "id": "n4uFZXYT1Qq7",
        "colab_type": "code",
        "colab": {}
      },
      "source": [
        "model.compile(optimizer = optimizer , loss = \"categorical_crossentropy\", metrics=[\"accuracy\"])"
      ],
      "execution_count": 0,
      "outputs": []
    },
    {
      "cell_type": "markdown",
      "metadata": {
        "id": "tS-guLnpAO58",
        "colab_type": "text"
      },
      "source": [
        "### Model Summary"
      ]
    },
    {
      "cell_type": "code",
      "metadata": {
        "id": "dzR7Iw_Y06In",
        "colab_type": "code",
        "outputId": "04b9bb66-4a7e-4ffa-843b-4518abbfca74",
        "colab": {
          "base_uri": "https://localhost:8080/",
          "height": 364
        }
      },
      "source": [
        "model.summary()"
      ],
      "execution_count": 0,
      "outputs": [
        {
          "output_type": "stream",
          "text": [
            "Model: \"sequential_1\"\n",
            "_________________________________________________________________\n",
            "Layer (type)                 Output Shape              Param #   \n",
            "=================================================================\n",
            "resnet101 (Model)            (None, 7, 7, 2048)        42658176  \n",
            "_________________________________________________________________\n",
            "flatten_1 (Flatten)          (None, 100352)            0         \n",
            "_________________________________________________________________\n",
            "batch_normalization_2 (Batch (None, 100352)            401408    \n",
            "_________________________________________________________________\n",
            "dense_2 (Dense)              (None, 256)               25690368  \n",
            "_________________________________________________________________\n",
            "dropout_1 (Dropout)          (None, 256)               0         \n",
            "_________________________________________________________________\n",
            "dense_3 (Dense)              (None, 15)                3855      \n",
            "=================================================================\n",
            "Total params: 68,753,807\n",
            "Trainable params: 68,447,759\n",
            "Non-trainable params: 306,048\n",
            "_________________________________________________________________\n"
          ],
          "name": "stdout"
        }
      ]
    },
    {
      "cell_type": "markdown",
      "metadata": {
        "id": "77DbaX-KAdgq",
        "colab_type": "text"
      },
      "source": [
        "### Fit the model again after fine tuning"
      ]
    },
    {
      "cell_type": "code",
      "metadata": {
        "id": "6MupsaZenLf5",
        "colab_type": "code",
        "outputId": "07019427-7d72-437b-ab7f-493e88d9c82a",
        "colab": {
          "base_uri": "https://localhost:8080/",
          "height": 1000
        }
      },
      "source": [
        "fine_tune_epochs = 30\n",
        "total_epochs =  EPOCHS + fine_tune_epochs\n",
        "\n",
        "history_fine = model.fit(train_generator,\n",
        "\t steps_per_epoch= steps_per_epoch, validation_data=validation_generator, epochs=total_epochs,\n",
        "                         initial_epoch =  history.epoch[-1],validation_steps = validation_steps,\n",
        "\t                      verbose =1, callbacks=[mcp,rlr])"
      ],
      "execution_count": 0,
      "outputs": [
        {
          "output_type": "stream",
          "text": [
            "Epoch 20/50\n",
            "50/50 [==============================] - ETA: 0s - loss: 1.0313 - accuracy: 0.7394\n",
            "Epoch 00020: val_accuracy did not improve from 0.55802\n",
            "50/50 [==============================] - 68s 1s/step - loss: 1.0313 - accuracy: 0.7394 - val_loss: 23.5161 - val_accuracy: 0.0738 - lr: 2.0000e-05\n",
            "Epoch 21/50\n",
            "50/50 [==============================] - ETA: 0s - loss: 0.3619 - accuracy: 0.9141\n",
            "Epoch 00021: val_accuracy did not improve from 0.55802\n",
            "50/50 [==============================] - 65s 1s/step - loss: 0.3619 - accuracy: 0.9141 - val_loss: 15.6826 - val_accuracy: 0.0760 - lr: 2.0000e-05\n",
            "Epoch 22/50\n",
            "50/50 [==============================] - ETA: 0s - loss: 0.2792 - accuracy: 0.9312\n",
            "Epoch 00022: val_accuracy did not improve from 0.55802\n",
            "50/50 [==============================] - 66s 1s/step - loss: 0.2792 - accuracy: 0.9312 - val_loss: 7.7575 - val_accuracy: 0.0707 - lr: 2.0000e-05\n",
            "Epoch 23/50\n",
            "50/50 [==============================] - ETA: 0s - loss: 0.2240 - accuracy: 0.9478\n",
            "Epoch 00023: val_accuracy did not improve from 0.55802\n",
            "50/50 [==============================] - 63s 1s/step - loss: 0.2240 - accuracy: 0.9478 - val_loss: 6.2636 - val_accuracy: 0.0992 - lr: 2.0000e-05\n",
            "Epoch 24/50\n",
            "50/50 [==============================] - ETA: 0s - loss: 0.0690 - accuracy: 0.9781\n",
            "Epoch 00024: val_accuracy did not improve from 0.55802\n",
            "50/50 [==============================] - 67s 1s/step - loss: 0.0690 - accuracy: 0.9781 - val_loss: 8.3154 - val_accuracy: 0.0844 - lr: 2.0000e-05\n",
            "Epoch 25/50\n",
            "50/50 [==============================] - ETA: 0s - loss: 0.0629 - accuracy: 0.9787\n",
            "Epoch 00025: val_accuracy did not improve from 0.55802\n",
            "50/50 [==============================] - 64s 1s/step - loss: 0.0629 - accuracy: 0.9787 - val_loss: 9.5347 - val_accuracy: 0.0770 - lr: 2.0000e-05\n",
            "Epoch 26/50\n",
            "50/50 [==============================] - ETA: 0s - loss: 0.0981 - accuracy: 0.9866\n",
            "Epoch 00026: val_accuracy did not improve from 0.55802\n",
            "\n",
            "Epoch 00026: ReduceLROnPlateau reducing learning rate to 3.999999898951501e-06.\n",
            "50/50 [==============================] - 63s 1s/step - loss: 0.0981 - accuracy: 0.9866 - val_loss: 9.8464 - val_accuracy: 0.0759 - lr: 2.0000e-05\n",
            "Epoch 27/50\n",
            "50/50 [==============================] - ETA: 0s - loss: 0.0548 - accuracy: 0.9850\n",
            "Epoch 00027: val_accuracy did not improve from 0.55802\n",
            "50/50 [==============================] - 67s 1s/step - loss: 0.0548 - accuracy: 0.9850 - val_loss: 8.9270 - val_accuracy: 0.1000 - lr: 4.0000e-06\n",
            "Epoch 28/50\n",
            "50/50 [==============================] - ETA: 0s - loss: 0.0242 - accuracy: 0.9911\n",
            "Epoch 00028: val_accuracy did not improve from 0.55802\n",
            "50/50 [==============================] - 62s 1s/step - loss: 0.0242 - accuracy: 0.9911 - val_loss: 7.8324 - val_accuracy: 0.1224 - lr: 4.0000e-06\n",
            "Epoch 29/50\n",
            "50/50 [==============================] - ETA: 0s - loss: 0.0165 - accuracy: 0.9962\n",
            "Epoch 00029: val_accuracy did not improve from 0.55802\n",
            "50/50 [==============================] - 63s 1s/step - loss: 0.0165 - accuracy: 0.9962 - val_loss: 6.3602 - val_accuracy: 0.2031 - lr: 4.0000e-06\n",
            "Epoch 30/50\n",
            "50/50 [==============================] - ETA: 0s - loss: 0.0277 - accuracy: 0.9911\n",
            "Epoch 00030: val_accuracy did not improve from 0.55802\n",
            "50/50 [==============================] - 66s 1s/step - loss: 0.0277 - accuracy: 0.9911 - val_loss: 4.5632 - val_accuracy: 0.3249 - lr: 4.0000e-06\n",
            "Epoch 31/50\n",
            "50/50 [==============================] - ETA: 0s - loss: 0.0109 - accuracy: 0.9962\n",
            "Epoch 00031: val_accuracy did not improve from 0.55802\n",
            "50/50 [==============================] - 64s 1s/step - loss: 0.0109 - accuracy: 0.9962 - val_loss: 4.0134 - val_accuracy: 0.3956 - lr: 4.0000e-06\n",
            "Epoch 32/50\n",
            "50/50 [==============================] - ETA: 0s - loss: 0.0135 - accuracy: 0.9969\n",
            "Epoch 00032: val_accuracy did not improve from 0.55802\n",
            "50/50 [==============================] - 66s 1s/step - loss: 0.0135 - accuracy: 0.9969 - val_loss: 3.1896 - val_accuracy: 0.4615 - lr: 4.0000e-06\n",
            "Epoch 33/50\n",
            "50/50 [==============================] - ETA: 0s - loss: 0.0182 - accuracy: 0.9955\n",
            "Epoch 00033: val_accuracy improved from 0.55802 to 0.58333, saving model to best_model.h5\n",
            "50/50 [==============================] - 72s 1s/step - loss: 0.0182 - accuracy: 0.9955 - val_loss: 2.2302 - val_accuracy: 0.5833 - lr: 4.0000e-06\n",
            "Epoch 34/50\n",
            "50/50 [==============================] - ETA: 0s - loss: 0.0089 - accuracy: 0.9975\n",
            "Epoch 00034: val_accuracy improved from 0.58333 to 0.64062, saving model to best_model.h5\n",
            "50/50 [==============================] - 72s 1s/step - loss: 0.0089 - accuracy: 0.9975 - val_loss: 1.6640 - val_accuracy: 0.6406 - lr: 4.0000e-06\n",
            "Epoch 35/50\n",
            "50/50 [==============================] - ETA: 0s - loss: 0.0139 - accuracy: 0.9968\n",
            "Epoch 00035: val_accuracy improved from 0.64062 to 0.70886, saving model to best_model.h5\n",
            "50/50 [==============================] - 73s 1s/step - loss: 0.0139 - accuracy: 0.9968 - val_loss: 1.3720 - val_accuracy: 0.7089 - lr: 4.0000e-06\n",
            "Epoch 36/50\n",
            "50/50 [==============================] - ETA: 0s - loss: 0.0078 - accuracy: 0.9981\n",
            "Epoch 00036: val_accuracy improved from 0.70886 to 0.77848, saving model to best_model.h5\n",
            "50/50 [==============================] - 74s 1s/step - loss: 0.0078 - accuracy: 0.9981 - val_loss: 0.9375 - val_accuracy: 0.7785 - lr: 4.0000e-06\n",
            "Epoch 37/50\n",
            "50/50 [==============================] - ETA: 0s - loss: 0.0089 - accuracy: 0.9975\n",
            "Epoch 00037: val_accuracy improved from 0.77848 to 0.82083, saving model to best_model.h5\n",
            "50/50 [==============================] - 76s 2s/step - loss: 0.0089 - accuracy: 0.9975 - val_loss: 0.7676 - val_accuracy: 0.8208 - lr: 4.0000e-06\n",
            "Epoch 38/50\n",
            "50/50 [==============================] - ETA: 0s - loss: 0.0209 - accuracy: 0.9962\n",
            "Epoch 00038: val_accuracy improved from 0.82083 to 0.87553, saving model to best_model.h5\n",
            "50/50 [==============================] - 75s 2s/step - loss: 0.0209 - accuracy: 0.9962 - val_loss: 0.6085 - val_accuracy: 0.8755 - lr: 4.0000e-06\n",
            "Epoch 39/50\n",
            "50/50 [==============================] - ETA: 0s - loss: 0.0098 - accuracy: 0.9969\n",
            "Epoch 00039: val_accuracy improved from 0.87553 to 0.88333, saving model to best_model.h5\n",
            "50/50 [==============================] - 77s 2s/step - loss: 0.0098 - accuracy: 0.9969 - val_loss: 0.4800 - val_accuracy: 0.8833 - lr: 4.0000e-06\n",
            "Epoch 40/50\n",
            "50/50 [==============================] - ETA: 0s - loss: 0.0195 - accuracy: 0.9962\n",
            "Epoch 00040: val_accuracy improved from 0.88333 to 0.89557, saving model to best_model.h5\n",
            "50/50 [==============================] - 76s 2s/step - loss: 0.0195 - accuracy: 0.9962 - val_loss: 0.4598 - val_accuracy: 0.8956 - lr: 4.0000e-06\n",
            "Epoch 41/50\n",
            "50/50 [==============================] - ETA: 0s - loss: 0.0115 - accuracy: 0.9975\n",
            "Epoch 00041: val_accuracy improved from 0.89557 to 0.90295, saving model to best_model.h5\n",
            "50/50 [==============================] - 76s 2s/step - loss: 0.0115 - accuracy: 0.9975 - val_loss: 0.4215 - val_accuracy: 0.9030 - lr: 4.0000e-06\n",
            "Epoch 42/50\n",
            "50/50 [==============================] - ETA: 0s - loss: 0.0269 - accuracy: 0.9949\n",
            "Epoch 00042: val_accuracy improved from 0.90295 to 0.91250, saving model to best_model.h5\n",
            "50/50 [==============================] - 76s 2s/step - loss: 0.0269 - accuracy: 0.9949 - val_loss: 0.3694 - val_accuracy: 0.9125 - lr: 4.0000e-06\n",
            "Epoch 43/50\n",
            "50/50 [==============================] - ETA: 0s - loss: 0.0069 - accuracy: 0.9975\n",
            "Epoch 00043: val_accuracy improved from 0.91250 to 0.92089, saving model to best_model.h5\n",
            "50/50 [==============================] - 75s 1s/step - loss: 0.0069 - accuracy: 0.9975 - val_loss: 0.3160 - val_accuracy: 0.9209 - lr: 4.0000e-06\n",
            "Epoch 44/50\n",
            "50/50 [==============================] - ETA: 0s - loss: 0.0087 - accuracy: 0.9962\n",
            "Epoch 00044: val_accuracy did not improve from 0.92089\n",
            "50/50 [==============================] - 74s 1s/step - loss: 0.0087 - accuracy: 0.9962 - val_loss: 0.3618 - val_accuracy: 0.9104 - lr: 4.0000e-06\n",
            "Epoch 45/50\n",
            "50/50 [==============================] - ETA: 0s - loss: 0.0080 - accuracy: 0.9975\n",
            "Epoch 00045: val_accuracy did not improve from 0.92089\n",
            "50/50 [==============================] - 67s 1s/step - loss: 0.0080 - accuracy: 0.9975 - val_loss: 0.3346 - val_accuracy: 0.9167 - lr: 4.0000e-06\n",
            "Epoch 46/50\n",
            "50/50 [==============================] - ETA: 0s - loss: 0.0066 - accuracy: 0.9975\n",
            "Epoch 00046: val_accuracy did not improve from 0.92089\n",
            "\n",
            "Epoch 00046: ReduceLROnPlateau reducing learning rate to 7.999999979801942e-07.\n",
            "50/50 [==============================] - 69s 1s/step - loss: 0.0066 - accuracy: 0.9975 - val_loss: 0.3884 - val_accuracy: 0.9093 - lr: 4.0000e-06\n",
            "Epoch 47/50\n",
            "50/50 [==============================] - ETA: 0s - loss: 0.0081 - accuracy: 0.9987\n",
            "Epoch 00047: val_accuracy improved from 0.92089 to 0.92396, saving model to best_model.h5\n",
            "50/50 [==============================] - 73s 1s/step - loss: 0.0081 - accuracy: 0.9987 - val_loss: 0.3411 - val_accuracy: 0.9240 - lr: 8.0000e-07\n",
            "Epoch 48/50\n",
            "50/50 [==============================] - ETA: 0s - loss: 0.0069 - accuracy: 0.9981\n",
            "Epoch 00048: val_accuracy did not improve from 0.92396\n",
            "50/50 [==============================] - 72s 1s/step - loss: 0.0069 - accuracy: 0.9981 - val_loss: 0.3201 - val_accuracy: 0.9230 - lr: 8.0000e-07\n",
            "Epoch 49/50\n",
            "50/50 [==============================] - ETA: 0s - loss: 0.0072 - accuracy: 0.9975\n",
            "Epoch 00049: val_accuracy did not improve from 0.92396\n",
            "50/50 [==============================] - 65s 1s/step - loss: 0.0072 - accuracy: 0.9975 - val_loss: 0.3630 - val_accuracy: 0.9125 - lr: 8.0000e-07\n",
            "Epoch 50/50\n",
            "50/50 [==============================] - ETA: 0s - loss: 0.0047 - accuracy: 1.0000\n",
            "Epoch 00050: val_accuracy improved from 0.92396 to 0.93646, saving model to best_model.h5\n",
            "50/50 [==============================] - 71s 1s/step - loss: 0.0047 - accuracy: 1.0000 - val_loss: 0.2630 - val_accuracy: 0.9365 - lr: 8.0000e-07\n"
          ],
          "name": "stdout"
        }
      ]
    },
    {
      "cell_type": "markdown",
      "metadata": {
        "colab_type": "text",
        "id": "MVCQpoX2Aq1s"
      },
      "source": [
        "### Validation loss and accuracy"
      ]
    },
    {
      "cell_type": "code",
      "metadata": {
        "id": "LDZJDsY7B99_",
        "colab_type": "code",
        "outputId": "07d4b531-14bc-49b1-c987-75f650b5d82f",
        "colab": {
          "base_uri": "https://localhost:8080/",
          "height": 34
        }
      },
      "source": [
        "print(\"No of validation batches:\",validation_generator.__len__())"
      ],
      "execution_count": 0,
      "outputs": [
        {
          "output_type": "stream",
          "text": [
            "No of validation batches: 51\n"
          ],
          "name": "stdout"
        }
      ]
    },
    {
      "cell_type": "code",
      "metadata": {
        "colab_type": "code",
        "outputId": "397ced4b-4149-4e28-8041-ff29d31ab09f",
        "id": "kZA918L_Aq13",
        "colab": {
          "base_uri": "https://localhost:8080/",
          "height": 69
        }
      },
      "source": [
        "val_loss, val_acc = model.evaluate(validation_generator, steps = 51)\n",
        "print(\"Validation loss:\", val_loss)\n",
        "print(\"Validation accuracy:\", val_acc)"
      ],
      "execution_count": 0,
      "outputs": [
        {
          "output_type": "stream",
          "text": [
            "51/51 [==============================] - 23s 443ms/step - loss: 0.3852 - accuracy: 0.9160\n",
            "Validation loss: 0.3852367103099823\n",
            "Validation accuracy: 0.9160493612289429\n"
          ],
          "name": "stdout"
        }
      ]
    },
    {
      "cell_type": "markdown",
      "metadata": {
        "colab_type": "text",
        "id": "GYLEiIQmAq2W"
      },
      "source": [
        "### Test loss and accuracy"
      ]
    },
    {
      "cell_type": "code",
      "metadata": {
        "id": "EL5nSoI9AeAn",
        "colab_type": "code",
        "outputId": "3c4d4b52-3482-4731-9f5f-96c61983359e",
        "colab": {
          "base_uri": "https://localhost:8080/",
          "height": 34
        }
      },
      "source": [
        "print(\"No of test batches:\",test_generator.__len__())"
      ],
      "execution_count": 0,
      "outputs": [
        {
          "output_type": "stream",
          "text": [
            "No of test batches: 57\n"
          ],
          "name": "stdout"
        }
      ]
    },
    {
      "cell_type": "code",
      "metadata": {
        "colab_type": "code",
        "id": "g3sCZS1aAq2a",
        "outputId": "bb28584a-9ec7-4b63-8f8d-6991c8bfa8b0",
        "colab": {
          "base_uri": "https://localhost:8080/",
          "height": 69
        }
      },
      "source": [
        "test_loss, test_acc = model.evaluate(test_generator, steps = 57)\n",
        "print(\"Test loss:\", test_loss) \n",
        "print(\"Test accuracy:\", test_acc)"
      ],
      "execution_count": 0,
      "outputs": [
        {
          "output_type": "stream",
          "text": [
            "57/57 [==============================] - 489s 9s/step - loss: 0.3329 - accuracy: 0.9222\n",
            "Test loss: 0.3329121768474579\n",
            "Test accuracy: 0.9222221970558167\n"
          ],
          "name": "stdout"
        }
      ]
    },
    {
      "cell_type": "markdown",
      "metadata": {
        "id": "gkwiorABBRrX",
        "colab_type": "text"
      },
      "source": [
        "### Plot"
      ]
    },
    {
      "cell_type": "code",
      "metadata": {
        "id": "IM7e13jGBPjc",
        "colab_type": "code",
        "outputId": "b96271f6-58f1-4131-a8a4-098f658ebadb",
        "colab": {
          "base_uri": "https://localhost:8080/",
          "height": 513
        }
      },
      "source": [
        "acc = history_fine.history['accuracy']\n",
        "val_acc = history_fine.history['val_accuracy']\n",
        "\n",
        "loss = history_fine.history['loss']\n",
        "val_loss = history_fine.history['val_loss']\n",
        "\n",
        "plt.figure(figsize=(8, 8))\n",
        "plt.subplot(2, 1, 1)\n",
        "plt.plot(acc, label='Training Accuracy')\n",
        "plt.plot(val_acc, label='Validation Accuracy')\n",
        "plt.legend(loc='lower right')\n",
        "plt.ylabel('Accuracy')\n",
        "plt.ylim([0,1.2])\n",
        "#plt.ylim([min(plt.ylim()),1])\n",
        "plt.title('Training and Validation Accuracy')\n",
        "\n",
        "plt.subplot(2, 1, 2)\n",
        "plt.plot(loss, label='Training Loss')\n",
        "plt.plot(val_loss, label='Validation Loss')\n",
        "plt.legend(loc='upper right')\n",
        "plt.ylabel('Cross Entropy')\n",
        "plt.ylim([-3,10.0])\n",
        "plt.title('Training and Validation Loss')\n",
        "plt.xlabel('epoch')\n",
        "plt.show()"
      ],
      "execution_count": 0,
      "outputs": [
        {
          "output_type": "display_data",
          "data": {
            "image/png": "[encoded data removed]",
            "text/plain": [
              "<Figure size 576x576 with 2 Axes>"
            ]
          },
          "metadata": {
            "tags": [],
            "needs_background": "light"
          }
        }
      ]
    }
  ]
}